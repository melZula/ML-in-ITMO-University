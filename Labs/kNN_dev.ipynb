{
 "cells": [
  {
   "cell_type": "code",
   "execution_count": 1,
   "metadata": {},
   "outputs": [],
   "source": [
    "import pandas as pd\n",
    "import numpy as np\n",
    "import math\n",
    "from matplotlib import pyplot as plt\n",
    "from scipy.spatial import distance\n",
    "filename = \"datasets/heart.csv\"\n",
    "CLASSES = 5"
   ]
  },
  {
   "cell_type": "code",
   "execution_count": 2,
   "metadata": {},
   "outputs": [],
   "source": [
    "def minmax(dataset):\n",
    "    minmax = list()\n",
    "    for i in range(len(dataset[0])):\n",
    "        if i == len(dataset[0]) - 1:\n",
    "            continue\n",
    "        value_min = dataset[:, i].min()\n",
    "        value_max = dataset[:, i].max()\n",
    "        minmax.append([value_min, value_max])\n",
    "    return minmax"
   ]
  },
  {
   "cell_type": "code",
   "execution_count": 3,
   "metadata": {},
   "outputs": [],
   "source": [
    "def normalize(_dataset, min_max):\n",
    "    for row in _dataset:\n",
    "        for i in range(len(row)):\n",
    "            if i == len(row) - 1:  # exclude labels\n",
    "                continue\n",
    "            dif = min_max[i][1] - min_max[i][0]\n",
    "            row[i] = ((row[i] - min_max[i][0]) / dif) if dif != 0 else 0\n",
    "    return _dataset"
   ]
  },
  {
   "cell_type": "code",
   "execution_count": 4,
   "metadata": {},
   "outputs": [],
   "source": [
    "def draw_plot(dataset, feature1N, feature2N, target):\n",
    "    iris_type_to_color = {\n",
    "        1.0 : \"g\",\n",
    "        2.0 : \"b\",\n",
    "        3.0 : \"y\",\n",
    "        4.0 : \"m\",\n",
    "        5.0 : \"c\"\n",
    "    }\n",
    "\n",
    "    colored_irises = list(map(lambda x: iris_type_to_color[x], dataset[:, -1]))\n",
    "    colored_irises.append(\"r\")\n",
    "\n",
    "    x = list(dataset[:, feature1N])\n",
    "    y = list(dataset[:, feature2N])\n",
    "\n",
    "    x.append(target[feature1N])\n",
    "    y.append(target[feature2N])\n",
    "\n",
    "    plt.scatter(x, y, c=colored_irises)\n",
    "    plt.show()\n"
   ]
  },
  {
   "cell_type": "code",
   "execution_count": 5,
   "metadata": {},
   "outputs": [],
   "source": [
    "dataset = pd.read_csv(filename, dtype=np.float64)"
   ]
  },
  {
   "cell_type": "code",
   "execution_count": 6,
   "metadata": {},
   "outputs": [
    {
     "output_type": "execute_result",
     "data": {
      "text/plain": "       0    1    2     3    4    5     6    7     8    9    10   11   12\n0    32.0  1.0  1.0   6.0  1.0  2.0   7.0  2.0  20.0  2.0  1.0  1.0  2.0\n1    34.0  1.0  4.0   9.0  1.0  1.0  29.0  2.0   2.0  2.0  1.0  1.0  2.0\n2    35.0  1.0  4.0   1.0  1.0  2.0   9.0  3.0   1.0  1.0  1.0  4.0  4.0\n3    36.0  1.0  4.0   8.0  1.0  2.0   5.0  3.0  16.0  3.0  1.0  3.0  2.0\n4    38.0  0.0  4.0   7.0  1.0  2.0  35.0  2.0  10.0  2.0  1.0  1.0  3.0\n..    ...  ...  ...   ...  ...  ...   ...  ...   ...  ...  ...  ...  ...\n118  70.0  1.0  4.0   9.0  2.0  3.0  55.0  3.0   4.0  3.0  1.0  4.0  2.0\n119  70.0  1.0  4.0  12.0  3.0  2.0  32.0  3.0  35.0  3.0  1.0  4.0  4.0\n120  72.0  1.0  3.0  18.0  1.0  4.0  12.0  2.0  32.0  3.0  3.0  1.0  1.0\n121  73.0  0.0  3.0  18.0  2.0  3.0  67.0  2.0   4.0  2.0  1.0  2.0  2.0\n122  74.0  1.0  2.0  15.0  1.0  3.0   2.0  2.0  30.0  2.0  1.0  1.0  2.0\n\n[123 rows x 13 columns]",
      "text/html": "<div>\n<style scoped>\n    .dataframe tbody tr th:only-of-type {\n        vertical-align: middle;\n    }\n\n    .dataframe tbody tr th {\n        vertical-align: top;\n    }\n\n    .dataframe thead th {\n        text-align: right;\n    }\n</style>\n<table border=\"1\" class=\"dataframe\">\n  <thead>\n    <tr style=\"text-align: right;\">\n      <th></th>\n      <th>0</th>\n      <th>1</th>\n      <th>2</th>\n      <th>3</th>\n      <th>4</th>\n      <th>5</th>\n      <th>6</th>\n      <th>7</th>\n      <th>8</th>\n      <th>9</th>\n      <th>10</th>\n      <th>11</th>\n      <th>12</th>\n    </tr>\n  </thead>\n  <tbody>\n    <tr>\n      <th>0</th>\n      <td>32.0</td>\n      <td>1.0</td>\n      <td>1.0</td>\n      <td>6.0</td>\n      <td>1.0</td>\n      <td>2.0</td>\n      <td>7.0</td>\n      <td>2.0</td>\n      <td>20.0</td>\n      <td>2.0</td>\n      <td>1.0</td>\n      <td>1.0</td>\n      <td>2.0</td>\n    </tr>\n    <tr>\n      <th>1</th>\n      <td>34.0</td>\n      <td>1.0</td>\n      <td>4.0</td>\n      <td>9.0</td>\n      <td>1.0</td>\n      <td>1.0</td>\n      <td>29.0</td>\n      <td>2.0</td>\n      <td>2.0</td>\n      <td>2.0</td>\n      <td>1.0</td>\n      <td>1.0</td>\n      <td>2.0</td>\n    </tr>\n    <tr>\n      <th>2</th>\n      <td>35.0</td>\n      <td>1.0</td>\n      <td>4.0</td>\n      <td>1.0</td>\n      <td>1.0</td>\n      <td>2.0</td>\n      <td>9.0</td>\n      <td>3.0</td>\n      <td>1.0</td>\n      <td>1.0</td>\n      <td>1.0</td>\n      <td>4.0</td>\n      <td>4.0</td>\n    </tr>\n    <tr>\n      <th>3</th>\n      <td>36.0</td>\n      <td>1.0</td>\n      <td>4.0</td>\n      <td>8.0</td>\n      <td>1.0</td>\n      <td>2.0</td>\n      <td>5.0</td>\n      <td>3.0</td>\n      <td>16.0</td>\n      <td>3.0</td>\n      <td>1.0</td>\n      <td>3.0</td>\n      <td>2.0</td>\n    </tr>\n    <tr>\n      <th>4</th>\n      <td>38.0</td>\n      <td>0.0</td>\n      <td>4.0</td>\n      <td>7.0</td>\n      <td>1.0</td>\n      <td>2.0</td>\n      <td>35.0</td>\n      <td>2.0</td>\n      <td>10.0</td>\n      <td>2.0</td>\n      <td>1.0</td>\n      <td>1.0</td>\n      <td>3.0</td>\n    </tr>\n    <tr>\n      <th>...</th>\n      <td>...</td>\n      <td>...</td>\n      <td>...</td>\n      <td>...</td>\n      <td>...</td>\n      <td>...</td>\n      <td>...</td>\n      <td>...</td>\n      <td>...</td>\n      <td>...</td>\n      <td>...</td>\n      <td>...</td>\n      <td>...</td>\n    </tr>\n    <tr>\n      <th>118</th>\n      <td>70.0</td>\n      <td>1.0</td>\n      <td>4.0</td>\n      <td>9.0</td>\n      <td>2.0</td>\n      <td>3.0</td>\n      <td>55.0</td>\n      <td>3.0</td>\n      <td>4.0</td>\n      <td>3.0</td>\n      <td>1.0</td>\n      <td>4.0</td>\n      <td>2.0</td>\n    </tr>\n    <tr>\n      <th>119</th>\n      <td>70.0</td>\n      <td>1.0</td>\n      <td>4.0</td>\n      <td>12.0</td>\n      <td>3.0</td>\n      <td>2.0</td>\n      <td>32.0</td>\n      <td>3.0</td>\n      <td>35.0</td>\n      <td>3.0</td>\n      <td>1.0</td>\n      <td>4.0</td>\n      <td>4.0</td>\n    </tr>\n    <tr>\n      <th>120</th>\n      <td>72.0</td>\n      <td>1.0</td>\n      <td>3.0</td>\n      <td>18.0</td>\n      <td>1.0</td>\n      <td>4.0</td>\n      <td>12.0</td>\n      <td>2.0</td>\n      <td>32.0</td>\n      <td>3.0</td>\n      <td>3.0</td>\n      <td>1.0</td>\n      <td>1.0</td>\n    </tr>\n    <tr>\n      <th>121</th>\n      <td>73.0</td>\n      <td>0.0</td>\n      <td>3.0</td>\n      <td>18.0</td>\n      <td>2.0</td>\n      <td>3.0</td>\n      <td>67.0</td>\n      <td>2.0</td>\n      <td>4.0</td>\n      <td>2.0</td>\n      <td>1.0</td>\n      <td>2.0</td>\n      <td>2.0</td>\n    </tr>\n    <tr>\n      <th>122</th>\n      <td>74.0</td>\n      <td>1.0</td>\n      <td>2.0</td>\n      <td>15.0</td>\n      <td>1.0</td>\n      <td>3.0</td>\n      <td>2.0</td>\n      <td>2.0</td>\n      <td>30.0</td>\n      <td>2.0</td>\n      <td>1.0</td>\n      <td>1.0</td>\n      <td>2.0</td>\n    </tr>\n  </tbody>\n</table>\n<p>123 rows × 13 columns</p>\n</div>"
     },
     "metadata": {},
     "execution_count": 6
    }
   ],
   "source": [
    "pd.DataFrame(dataset.values)"
   ]
  },
  {
   "cell_type": "code",
   "execution_count": 7,
   "metadata": {},
   "outputs": [
    {
     "output_type": "execute_result",
     "data": {
      "text/plain": "           0    1         2     3    4         5         6    7         8   \\\n0    0.000000  1.0  0.000000  0.25  0.0  0.333333  0.089552  0.5  0.542857   \n1    0.047619  1.0  1.000000  0.40  0.0  0.000000  0.417910  0.5  0.028571   \n2    0.071429  1.0  1.000000  0.00  0.0  0.333333  0.119403  1.0  0.000000   \n3    0.095238  1.0  1.000000  0.35  0.0  0.333333  0.059701  1.0  0.428571   \n4    0.142857  0.0  1.000000  0.30  0.0  0.333333  0.507463  0.5  0.257143   \n..        ...  ...       ...   ...  ...       ...       ...  ...       ...   \n118  0.904762  1.0  1.000000  0.40  0.5  0.666667  0.805970  1.0  0.085714   \n119  0.904762  1.0  1.000000  0.55  1.0  0.333333  0.462687  1.0  0.971429   \n120  0.952381  1.0  0.666667  0.85  0.0  1.000000  0.164179  0.5  0.885714   \n121  0.976190  0.0  0.666667  0.85  0.5  0.666667  0.985075  0.5  0.085714   \n122  1.000000  1.0  0.333333  0.70  0.0  0.666667  0.014925  0.5  0.828571   \n\n           9    10        11   12  \n0    0.333333  0.0  0.000000  2.0  \n1    0.333333  0.0  0.000000  2.0  \n2    0.000000  0.0  1.000000  4.0  \n3    0.666667  0.0  0.666667  2.0  \n4    0.333333  0.0  0.000000  3.0  \n..        ...  ...       ...  ...  \n118  0.666667  0.0  1.000000  2.0  \n119  0.666667  0.0  1.000000  4.0  \n120  0.666667  1.0  0.000000  1.0  \n121  0.333333  0.0  0.333333  2.0  \n122  0.333333  0.0  0.000000  2.0  \n\n[123 rows x 13 columns]",
      "text/html": "<div>\n<style scoped>\n    .dataframe tbody tr th:only-of-type {\n        vertical-align: middle;\n    }\n\n    .dataframe tbody tr th {\n        vertical-align: top;\n    }\n\n    .dataframe thead th {\n        text-align: right;\n    }\n</style>\n<table border=\"1\" class=\"dataframe\">\n  <thead>\n    <tr style=\"text-align: right;\">\n      <th></th>\n      <th>0</th>\n      <th>1</th>\n      <th>2</th>\n      <th>3</th>\n      <th>4</th>\n      <th>5</th>\n      <th>6</th>\n      <th>7</th>\n      <th>8</th>\n      <th>9</th>\n      <th>10</th>\n      <th>11</th>\n      <th>12</th>\n    </tr>\n  </thead>\n  <tbody>\n    <tr>\n      <th>0</th>\n      <td>0.000000</td>\n      <td>1.0</td>\n      <td>0.000000</td>\n      <td>0.25</td>\n      <td>0.0</td>\n      <td>0.333333</td>\n      <td>0.089552</td>\n      <td>0.5</td>\n      <td>0.542857</td>\n      <td>0.333333</td>\n      <td>0.0</td>\n      <td>0.000000</td>\n      <td>2.0</td>\n    </tr>\n    <tr>\n      <th>1</th>\n      <td>0.047619</td>\n      <td>1.0</td>\n      <td>1.000000</td>\n      <td>0.40</td>\n      <td>0.0</td>\n      <td>0.000000</td>\n      <td>0.417910</td>\n      <td>0.5</td>\n      <td>0.028571</td>\n      <td>0.333333</td>\n      <td>0.0</td>\n      <td>0.000000</td>\n      <td>2.0</td>\n    </tr>\n    <tr>\n      <th>2</th>\n      <td>0.071429</td>\n      <td>1.0</td>\n      <td>1.000000</td>\n      <td>0.00</td>\n      <td>0.0</td>\n      <td>0.333333</td>\n      <td>0.119403</td>\n      <td>1.0</td>\n      <td>0.000000</td>\n      <td>0.000000</td>\n      <td>0.0</td>\n      <td>1.000000</td>\n      <td>4.0</td>\n    </tr>\n    <tr>\n      <th>3</th>\n      <td>0.095238</td>\n      <td>1.0</td>\n      <td>1.000000</td>\n      <td>0.35</td>\n      <td>0.0</td>\n      <td>0.333333</td>\n      <td>0.059701</td>\n      <td>1.0</td>\n      <td>0.428571</td>\n      <td>0.666667</td>\n      <td>0.0</td>\n      <td>0.666667</td>\n      <td>2.0</td>\n    </tr>\n    <tr>\n      <th>4</th>\n      <td>0.142857</td>\n      <td>0.0</td>\n      <td>1.000000</td>\n      <td>0.30</td>\n      <td>0.0</td>\n      <td>0.333333</td>\n      <td>0.507463</td>\n      <td>0.5</td>\n      <td>0.257143</td>\n      <td>0.333333</td>\n      <td>0.0</td>\n      <td>0.000000</td>\n      <td>3.0</td>\n    </tr>\n    <tr>\n      <th>...</th>\n      <td>...</td>\n      <td>...</td>\n      <td>...</td>\n      <td>...</td>\n      <td>...</td>\n      <td>...</td>\n      <td>...</td>\n      <td>...</td>\n      <td>...</td>\n      <td>...</td>\n      <td>...</td>\n      <td>...</td>\n      <td>...</td>\n    </tr>\n    <tr>\n      <th>118</th>\n      <td>0.904762</td>\n      <td>1.0</td>\n      <td>1.000000</td>\n      <td>0.40</td>\n      <td>0.5</td>\n      <td>0.666667</td>\n      <td>0.805970</td>\n      <td>1.0</td>\n      <td>0.085714</td>\n      <td>0.666667</td>\n      <td>0.0</td>\n      <td>1.000000</td>\n      <td>2.0</td>\n    </tr>\n    <tr>\n      <th>119</th>\n      <td>0.904762</td>\n      <td>1.0</td>\n      <td>1.000000</td>\n      <td>0.55</td>\n      <td>1.0</td>\n      <td>0.333333</td>\n      <td>0.462687</td>\n      <td>1.0</td>\n      <td>0.971429</td>\n      <td>0.666667</td>\n      <td>0.0</td>\n      <td>1.000000</td>\n      <td>4.0</td>\n    </tr>\n    <tr>\n      <th>120</th>\n      <td>0.952381</td>\n      <td>1.0</td>\n      <td>0.666667</td>\n      <td>0.85</td>\n      <td>0.0</td>\n      <td>1.000000</td>\n      <td>0.164179</td>\n      <td>0.5</td>\n      <td>0.885714</td>\n      <td>0.666667</td>\n      <td>1.0</td>\n      <td>0.000000</td>\n      <td>1.0</td>\n    </tr>\n    <tr>\n      <th>121</th>\n      <td>0.976190</td>\n      <td>0.0</td>\n      <td>0.666667</td>\n      <td>0.85</td>\n      <td>0.5</td>\n      <td>0.666667</td>\n      <td>0.985075</td>\n      <td>0.5</td>\n      <td>0.085714</td>\n      <td>0.333333</td>\n      <td>0.0</td>\n      <td>0.333333</td>\n      <td>2.0</td>\n    </tr>\n    <tr>\n      <th>122</th>\n      <td>1.000000</td>\n      <td>1.0</td>\n      <td>0.333333</td>\n      <td>0.70</td>\n      <td>0.0</td>\n      <td>0.666667</td>\n      <td>0.014925</td>\n      <td>0.5</td>\n      <td>0.828571</td>\n      <td>0.333333</td>\n      <td>0.0</td>\n      <td>0.000000</td>\n      <td>2.0</td>\n    </tr>\n  </tbody>\n</table>\n<p>123 rows × 13 columns</p>\n</div>"
     },
     "metadata": {},
     "execution_count": 7
    }
   ],
   "source": [
    "min_max = minmax(dataset.values)\n",
    "normalized_dataset_values = normalize(dataset.values.copy(), min_max)\n",
    "pd.DataFrame(normalized_dataset_values)"
   ]
  },
  {
   "cell_type": "code",
   "execution_count": 8,
   "metadata": {},
   "outputs": [],
   "source": [
    "def kNN(dataset, distf, target, k):\n",
    "    distances = list()\n",
    "    for row in dataset:\n",
    "        dist = distf(target, row[:-1])\n",
    "        distances.append((row, dist))\n",
    "    distances.sort(key=lambda tup: tup[1])\n",
    "    \n",
    "#     neighbors = list()\n",
    "#     for i in range(k):\n",
    "#         neighbors.append(distances[i][0])\n",
    "    return distances[-1][1]"
   ]
  },
  {
   "cell_type": "code",
   "execution_count": 9,
   "metadata": {},
   "outputs": [],
   "source": [
    "def NWreg(dataset, x, dist, kernel, H, variable=False, onehot=False, lables=None):\n",
    "    up = 0\n",
    "    gr = 0\n",
    "    if variable:\n",
    "        H = kNN(dataset, dist, x, H)\n",
    "    for idx, row in enumerate(dataset):\n",
    "        up += row[-1] * kernel(dist(row[:-1], x) / H)\n",
    "        if onehot and lables is not None:\n",
    "            up += lables[idx] * kernel(dist(row[:-1], x) / H)\n",
    "        gr += kernel(dist(row[:-1], x)/H)\n",
    "    return up / gr if gr != 0 else 0"
   ]
  },
  {
   "cell_type": "code",
   "execution_count": 10,
   "metadata": {},
   "outputs": [],
   "source": [
    "def F_macro(CM):\n",
    "    TP = []\n",
    "    FP = []\n",
    "    FN = []\n",
    "    F_micro = 0\n",
    "    F_macro = 0\n",
    "\n",
    "    All = sum(list(sum(e) for e in zip(*CM)))\n",
    "    \n",
    "    def Prec(c):\n",
    "        _gr = TP[c] + FP[c]\n",
    "        return TP[c] / _gr if _gr != 0 else 0\n",
    "\n",
    "    def Recall(c):\n",
    "        _gr = TP[c] + FN[c]\n",
    "        return TP[c] / _gr if _gr != 0 else 0\n",
    "\n",
    "    def F_score(c, b=1):\n",
    "        _prec = Prec(c)\n",
    "        _recall = Recall(c)\n",
    "        if _prec != 0 and _recall != 0:\n",
    "            return (1 + pow(b, 2)) * _prec * _recall / (pow(b, 2) * _prec + _recall)\n",
    "        else:\n",
    "            return 0\n",
    "\n",
    "    def PrecW():\n",
    "        _sum = 0\n",
    "        for i in range(CLASSES):\n",
    "            P = sum(list(e[i] for e in CM))\n",
    "            _sum += CM[i][i] * sum(CM[i]) / P if P != 0 else 0\n",
    "        return _sum / All\n",
    "\n",
    "    def RecallW():\n",
    "        return sum(CM[i][i] for i in range(CLASSES)) / All\n",
    "\n",
    "    for i in range(CLASSES):\n",
    "        tp = CM[i][i]\n",
    "        TP.append(tp)\n",
    "        FN.append(sum(CM[i]) - tp)\n",
    "        FP.append(sum(list(e[i] for e in CM)) - tp)\n",
    "        F_micro += (sum(CM[i]) * F_score(i)) / All\n",
    "\n",
    "    return 2 * PrecW() * RecallW() / (PrecW() + RecallW())\n"
   ]
  },
  {
   "cell_type": "code",
   "execution_count": 11,
   "metadata": {},
   "outputs": [],
   "source": [
    "euclidean = distance.euclidean\n",
    "manhattan = distance.cityblock\n",
    "chebyshev = distance.chebyshev\n",
    "\n",
    "distances = [euclidean, manhattan, chebyshev]"
   ]
  },
  {
   "cell_type": "code",
   "execution_count": 12,
   "metadata": {},
   "outputs": [],
   "source": [
    "def epanechnikov(u):\n",
    "    return 3 * (1 - pow(u, 2)) / 4 if u < 1 else 0\n",
    "def uniform(u):\n",
    "    return 0.5 if u < 1 else 0\n",
    "def triangular(u):\n",
    "    return 1 - abs(u) if u < 1 else 0\n",
    "def quartic(u):\n",
    "    return 15*pow(1-pow(u,2), 2) / 16 if u < 1 else 0\n",
    "def triweight(u):\n",
    "    return 35*pow(1-pow(u,2), 3) / 32 if u < 1 else 0\n",
    "def tricube(u):\n",
    "    return 70*pow(1-pow(abs(u),3), 3) / 81 if u < 1 else 0\n",
    "def gaussian(u):\n",
    "    return math.exp(-pow(u,2) / 2) / math.sqrt(2*math.pi)\n",
    "def cosine(u):\n",
    "    return (math.pi * math.cos((math.pi * u) / 2)) / 4 if u < 1 else 0\n",
    "def logistic(u):\n",
    "    return 1 / (math.exp(u) + 2 + math.exp(-u))\n",
    "def sigmoid(u):\n",
    "    return 2 / (math.pi * (math.exp(u) + math.exp(-u)))\n",
    "\n",
    "kernels = [epanechnikov, uniform, triangular, quartic, triweight, tricube, gaussian, cosine, logistic, sigmoid]"
   ]
  },
  {
   "cell_type": "code",
   "execution_count": 25,
   "metadata": {},
   "outputs": [],
   "source": [
    "def regression(dataset):\n",
    "    maxfscore = 0\n",
    "    best = []\n",
    "    bestCM = np.zeros((CLASSES, CLASSES))\n",
    "    for kernel in kernels:\n",
    "        for distance in distances:\n",
    "            for is_variable in [False, True]:\n",
    "                if is_variable:\n",
    "                    windows = [x for x in range(2, 25)]\n",
    "                else:\n",
    "                    windows = [x * 0.1 for x in range(40, 250)]\n",
    "                for window in windows:\n",
    "                    CM = np.zeros((CLASSES, CLASSES))\n",
    "                    for i in range(len(dataset.values)):\n",
    "                        curr_dataset = [row for idx, row in enumerate(dataset.values) if idx != i]\n",
    "                        res = NWreg(curr_dataset, dataset.values[i][:-1],\n",
    "                                    distance, kernel, window, is_variable)\n",
    "                        predicted = round(res) if res >= 0.5 else 1\n",
    "                        expected = round(dataset.values[i][-1])\n",
    "                        CM[predicted-1][expected-1] += 1\n",
    "                    fscore = F_macro(CM)\n",
    "                    if fscore > maxfscore:\n",
    "                        maxfscore = fscore\n",
    "                        best = [kernel, distance, window, is_variable]\n",
    "                        bestCM = CM\n",
    "    print(str(best))\n",
    "    print(pd.DataFrame(bestCM))\n",
    "    print(\"F score: \" + maxfscore.__str__())\n",
    "    return best, bestCM, maxfscore"
   ]
  },
  {
   "cell_type": "code",
   "execution_count": 26,
   "metadata": {},
   "outputs": [
    {
     "name": "stdout",
     "output_type": "stream",
     "text": [
      "[<function logistic at 0x7f4b964d3820>, <function cityblock at 0x7f4b96d2aa60>, 6.5, False]\n",
      "     0     1     2     3    4\n",
      "0  0.0   0.0   0.0   0.0  0.0\n",
      "1  2.0   9.0   3.0   2.0  1.0\n",
      "2  6.0  38.0  29.0  25.0  4.0\n",
      "3  0.0   1.0   0.0   3.0  0.0\n",
      "4  0.0   0.0   0.0   0.0  0.0\n",
      "F score: 0.4671896855804902\n"
     ]
    }
   ],
   "source": [
    "best, cm, fsc = regression(dataset)"
   ]
  },
  {
   "cell_type": "code",
   "execution_count": 13,
   "metadata": {},
   "outputs": [
    {
     "output_type": "execute_result",
     "data": {
      "text/plain": "     1.0  2.0  3.0  4.0  5.0\n0      0    1    0    0    0\n1      0    1    0    0    0\n2      0    0    0    1    0\n3      0    1    0    0    0\n4      0    0    1    0    0\n..   ...  ...  ...  ...  ...\n118    0    1    0    0    0\n119    0    0    0    1    0\n120    1    0    0    0    0\n121    0    1    0    0    0\n122    0    1    0    0    0\n\n[123 rows x 5 columns]",
      "text/html": "<div>\n<style scoped>\n    .dataframe tbody tr th:only-of-type {\n        vertical-align: middle;\n    }\n\n    .dataframe tbody tr th {\n        vertical-align: top;\n    }\n\n    .dataframe thead th {\n        text-align: right;\n    }\n</style>\n<table border=\"1\" class=\"dataframe\">\n  <thead>\n    <tr style=\"text-align: right;\">\n      <th></th>\n      <th>1.0</th>\n      <th>2.0</th>\n      <th>3.0</th>\n      <th>4.0</th>\n      <th>5.0</th>\n    </tr>\n  </thead>\n  <tbody>\n    <tr>\n      <th>0</th>\n      <td>0</td>\n      <td>1</td>\n      <td>0</td>\n      <td>0</td>\n      <td>0</td>\n    </tr>\n    <tr>\n      <th>1</th>\n      <td>0</td>\n      <td>1</td>\n      <td>0</td>\n      <td>0</td>\n      <td>0</td>\n    </tr>\n    <tr>\n      <th>2</th>\n      <td>0</td>\n      <td>0</td>\n      <td>0</td>\n      <td>1</td>\n      <td>0</td>\n    </tr>\n    <tr>\n      <th>3</th>\n      <td>0</td>\n      <td>1</td>\n      <td>0</td>\n      <td>0</td>\n      <td>0</td>\n    </tr>\n    <tr>\n      <th>4</th>\n      <td>0</td>\n      <td>0</td>\n      <td>1</td>\n      <td>0</td>\n      <td>0</td>\n    </tr>\n    <tr>\n      <th>...</th>\n      <td>...</td>\n      <td>...</td>\n      <td>...</td>\n      <td>...</td>\n      <td>...</td>\n    </tr>\n    <tr>\n      <th>118</th>\n      <td>0</td>\n      <td>1</td>\n      <td>0</td>\n      <td>0</td>\n      <td>0</td>\n    </tr>\n    <tr>\n      <th>119</th>\n      <td>0</td>\n      <td>0</td>\n      <td>0</td>\n      <td>1</td>\n      <td>0</td>\n    </tr>\n    <tr>\n      <th>120</th>\n      <td>1</td>\n      <td>0</td>\n      <td>0</td>\n      <td>0</td>\n      <td>0</td>\n    </tr>\n    <tr>\n      <th>121</th>\n      <td>0</td>\n      <td>1</td>\n      <td>0</td>\n      <td>0</td>\n      <td>0</td>\n    </tr>\n    <tr>\n      <th>122</th>\n      <td>0</td>\n      <td>1</td>\n      <td>0</td>\n      <td>0</td>\n      <td>0</td>\n    </tr>\n  </tbody>\n</table>\n<p>123 rows × 5 columns</p>\n</div>"
     },
     "metadata": {},
     "execution_count": 13
    }
   ],
   "source": [
    "onehot = pd.get_dummies(normalized_dataset_values[:,-1])\n",
    "onehot"
   ]
  },
  {
   "cell_type": "code",
   "execution_count": 14,
   "metadata": {},
   "outputs": [],
   "source": [
    "def regression(dataset, onehot): # for onehot\n",
    "    maxfscore = 0\n",
    "    best = []\n",
    "    bestCM = np.zeros((CLASSES, CLASSES))\n",
    "    for kernel in kernels:\n",
    "        for distance in distances:\n",
    "            for is_variable in [False, True]:\n",
    "                if is_variable:\n",
    "                    windows = [x for x in range(2, 25)]\n",
    "                else:\n",
    "                    windows = [x * 0.1 for x in range(40, 250)]\n",
    "                for window in windows:\n",
    "                    CM = np.zeros((CLASSES, CLASSES))\n",
    "                    for i in range(len(dataset.values)):\n",
    "                        curr_dataset = [row for idx, row in enumerate(dataset.values) if idx != i]\n",
    "                        res = NWreg(curr_dataset, dataset.values[i][:-1],\n",
    "                                    distance, kernel, window, variable=is_variable, onehot=True, lables=onehot)\n",
    "                        predicted = np.where(res == max(res))[0][0]\n",
    "                        expected = round(dataset.values[i][-1])\n",
    "                        CM[predicted][expected-1] += 1\n",
    "                    fscore = F_macro(CM)\n",
    "                    if fscore > maxfscore:\n",
    "                        maxfscore = fscore\n",
    "                        best = [kernel, distance, window, is_valiable]\n",
    "                        bestCM = CM\n",
    "    print(str(best))\n",
    "    print(pd.DataFrame(bestCM))\n",
    "    print(\"F score: \" + maxfscore.__str__())\n",
    "    return best, bestCM, maxfscore"
   ]
  },
  {
   "cell_type": "code",
   "execution_count": 15,
   "metadata": {},
   "outputs": [
    {
     "output_type": "error",
     "ename": "TypeError",
     "evalue": "&#39;int&#39; object is not iterable",
     "traceback": [
      "\u001b[0;31m---------------------------------------------------------------------------\u001b[0m",
      "\u001b[0;31mTypeError\u001b[0m                                 Traceback (most recent call last)",
      "\u001b[0;32m&lt;ipython-input-15-518f3a6ded9f&gt;\u001b[0m in \u001b[0;36m&lt;module&gt;\u001b[0;34m\u001b[0m\n\u001b[0;32m----&gt; 1\u001b[0;31m \u001b[0mbest1h\u001b[0m\u001b[0;34m,\u001b[0m \u001b[0mcm1h\u001b[0m\u001b[0;34m,\u001b[0m \u001b[0mfsc1h\u001b[0m \u001b[0;34m=\u001b[0m \u001b[0mregression\u001b[0m\u001b[0;34m(\u001b[0m\u001b[0mdataset\u001b[0m\u001b[0;34m,\u001b[0m \u001b[0monehot\u001b[0m\u001b[0;34m.\u001b[0m\u001b[0mvalues\u001b[0m\u001b[0;34m)\u001b[0m\u001b[0;34m\u001b[0m\u001b[0;34m\u001b[0m\u001b[0m\n\u001b[0m",
      "\u001b[0;32m&lt;ipython-input-14-c3b40fb8ba4a&gt;\u001b[0m in \u001b[0;36mregression\u001b[0;34m(dataset, onehot)\u001b[0m\n\u001b[1;32m     16\u001b[0m                         res = NWreg(curr_dataset, dataset.values[i][:-1],\n\u001b[1;32m     17\u001b[0m                                     distance, kernel, window, variable=is_variable, onehot=True, lables=onehot)\n\u001b[0;32m---&gt; 18\u001b[0;31m                         \u001b[0mpredicted\u001b[0m \u001b[0;34m=\u001b[0m \u001b[0mnp\u001b[0m\u001b[0;34m.\u001b[0m\u001b[0mwhere\u001b[0m\u001b[0;34m(\u001b[0m\u001b[0mres\u001b[0m \u001b[0;34m==\u001b[0m \u001b[0mmax\u001b[0m\u001b[0;34m(\u001b[0m\u001b[0mres\u001b[0m\u001b[0;34m)\u001b[0m\u001b[0;34m)\u001b[0m\u001b[0;34m[\u001b[0m\u001b[0;36m0\u001b[0m\u001b[0;34m]\u001b[0m\u001b[0;34m[\u001b[0m\u001b[0;36m0\u001b[0m\u001b[0;34m]\u001b[0m\u001b[0;34m\u001b[0m\u001b[0;34m\u001b[0m\u001b[0m\n\u001b[0m\u001b[1;32m     19\u001b[0m                         \u001b[0mexpected\u001b[0m \u001b[0;34m=\u001b[0m \u001b[0mround\u001b[0m\u001b[0;34m(\u001b[0m\u001b[0mdataset\u001b[0m\u001b[0;34m.\u001b[0m\u001b[0mvalues\u001b[0m\u001b[0;34m[\u001b[0m\u001b[0mi\u001b[0m\u001b[0;34m]\u001b[0m\u001b[0;34m[\u001b[0m\u001b[0;34m-\u001b[0m\u001b[0;36m1\u001b[0m\u001b[0;34m]\u001b[0m\u001b[0;34m)\u001b[0m\u001b[0;34m\u001b[0m\u001b[0;34m\u001b[0m\u001b[0m\n\u001b[1;32m     20\u001b[0m                         \u001b[0mCM\u001b[0m\u001b[0;34m[\u001b[0m\u001b[0mpredicted\u001b[0m\u001b[0;34m]\u001b[0m\u001b[0;34m[\u001b[0m\u001b[0mexpected\u001b[0m\u001b[0;34m-\u001b[0m\u001b[0;36m1\u001b[0m\u001b[0;34m]\u001b[0m \u001b[0;34m+=\u001b[0m \u001b[0;36m1\u001b[0m\u001b[0;34m\u001b[0m\u001b[0;34m\u001b[0m\u001b[0m\n",
      "\u001b[0;31mTypeError\u001b[0m: &#39;int&#39; object is not iterable"
     ]
    }
   ],
   "source": [
    "best1h, cm1h, fsc1h = regression(dataset, onehot.values)"
   ]
  },
  {
   "cell_type": "code",
   "execution_count": 120,
   "metadata": {},
   "outputs": [
    {
     "data": {
      "image/png": "[encoded data removed]",
      "text/plain": [
       "<Figure size 432x288 with 1 Axes>"
      ]
     },
     "metadata": {
      "needs_background": "light"
     },
     "output_type": "display_data"
    }
   ],
   "source": [
    "def plot1(dataset):\n",
    "    fscs = []\n",
    "    winsize = []\n",
    "    windows = [x * 0.1 for x in range(20, 250)]\n",
    "    for window in windows:\n",
    "        CM = np.zeros((CLASSES, CLASSES))\n",
    "        for i in range(len(dataset.values)):\n",
    "            curr_dataset = [row for idx, row in enumerate(dataset.values) if idx != i]\n",
    "            res = NWreg(curr_dataset, dataset.values[i][:-1], euclidean, epanechnikov, window)\n",
    "            predicted = round(res) if res >= 0.5 else 1\n",
    "            expected = round(dataset.values[i][-1])\n",
    "            CM[predicted-1][expected-1] += 1\n",
    "        fscs.append(F_macro(CM))\n",
    "        winsize.append(window)\n",
    "    plt.plot(winsize, fscs)\n",
    "plot1(dataset)"
   ]
  },
  {
   "cell_type": "code",
   "execution_count": null,
   "metadata": {},
   "outputs": [],
   "source": []
  }
 ],
 "metadata": {
  "kernelspec": {
   "display_name": "Python 3",
   "language": "python",
   "name": "python3"
  },
  "language_info": {
   "codemirror_mode": {
    "name": "ipython",
    "version": 3
   },
   "file_extension": ".py",
   "mimetype": "text/x-python",
   "name": "python",
   "nbconvert_exporter": "python",
   "pygments_lexer": "ipython3",
   "version": "3.8.2-final"
  }
 },
 "nbformat": 4,
 "nbformat_minor": 4
}