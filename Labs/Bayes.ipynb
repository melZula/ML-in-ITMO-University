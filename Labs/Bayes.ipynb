{
 "cells": [
  {
   "cell_type": "code",
   "execution_count": 1,
   "metadata": {
    "collapsed": true
   },
   "outputs": [],
   "source": [
    "import numpy as np\n",
    "import os\n",
    "\n",
    "from collections import Counter\n",
    "from sklearn.metrics import accuracy_score\n",
    "import matplotlib.pyplot as plt"
   ]
  },
  {
   "cell_type": "code",
   "execution_count": 2,
   "outputs": [],
   "source": [
    "class NB:\n",
    "\n",
    "    def __init__(self, lambdas, alpha):\n",
    "        self.lambdas = lambdas\n",
    "        self.alpha = alpha\n",
    "        self.bows = {}\n",
    "        self.classes = {}\n",
    "        self.V = 0\n",
    "\n",
    "    def fit(self, X_train, y_train):\n",
    "        words_classes = {}\n",
    "        classes = Counter()\n",
    "        V = set()\n",
    "        for i in range(len(X_train)):\n",
    "            if y_train[i] in words_classes:\n",
    "                words_classes[y_train[i]] += X_train[i]\n",
    "                classes[y_train[i]] += 1\n",
    "            else:\n",
    "                words_classes[y_train[i]] = X_train[i].copy()\n",
    "                classes[y_train[i]] += 1\n",
    "            V = V.union(set(X_train[i]))\n",
    "        for k, v in words_classes.items():\n",
    "            words_classes[k] = Counter(v)\n",
    "        self.bows = words_classes\n",
    "        self.V = len(V)\n",
    "        self.classes = classes\n",
    "\n",
    "\n",
    "    def predict(self, X):\n",
    "        y_pred = []\n",
    "        y_roc = []\n",
    "        for i in range(len(X)):\n",
    "            probs = []\n",
    "            for c in self.classes:\n",
    "                prob = 0\n",
    "                for word in X[i]:\n",
    "                    prob += np.log((self.bows[c][word] + self.alpha) / (self.alpha * self.V + sum(self.bows[c].values())))\n",
    "                probs.append(np.log(self.lambdas[c] * self.classes[c] / sum(self.classes.values())) + prob)\n",
    "            index = probs.index(max(probs))\n",
    "            for i, v in enumerate(self.classes):\n",
    "                if i == index:\n",
    "                    y_pred.append(v)\n",
    "            probs_n = [0.0] * len(probs)\n",
    "            for i in range(len(probs)):\n",
    "                probs_n[i] = probs[i] / sum(probs)\n",
    "            y_roc.append((1 - probs_n[1]))\n",
    "        return y_pred, y_roc"
   ],
   "metadata": {
    "collapsed": false,
    "pycharm": {
     "name": "#%%\n"
    }
   }
  },
  {
   "cell_type": "code",
   "execution_count": 7,
   "outputs": [],
   "source": [
    "def get_data(n):\n",
    "    y = []\n",
    "    X = []\n",
    "    for dname in os.listdir('datasets/nb/'):\n",
    "        c = 0\n",
    "        for filename in os.listdir(f'datasets/nb/{dname}/'):\n",
    "            with open(f'datasets/nb/{dname}/{filename}', encoding='utf-8', mode='r') as f:\n",
    "                data = f.read()\n",
    "                if 'legit' in filename:\n",
    "                    y.append('l')\n",
    "                else:\n",
    "                    y.append('s')\n",
    "                words = []\n",
    "                for j in range(n):\n",
    "                    msg = list(filter(str.isnumeric, data.split()))\n",
    "                    words += [' '.join(msg[i: i + j + 1]) for i in range(len(msg) - j)]\n",
    "                X.append(words)\n",
    "    return X, y"
   ],
   "metadata": {
    "collapsed": false,
    "pycharm": {
     "name": "#%%\n"
    }
   }
  },
  {
   "cell_type": "code",
   "execution_count": 4,
   "outputs": [],
   "source": [
    "def split_train_test(X, y, i):\n",
    "    X_test = X[i * 109: (i + 1) * 109]\n",
    "    X_train = X[: i * 109] + X[(i + 1) * 109:]\n",
    "    y_test = y[i * 109: (i + 1) * 109]\n",
    "    y_train = y[: i * 109] + y[(i + 1) * 109:]\n",
    "    return X_train, X_test, y_train, y_test"
   ],
   "metadata": {
    "collapsed": false,
    "pycharm": {
     "name": "#%%\n"
    }
   }
  },
  {
   "cell_type": "code",
   "execution_count": 5,
   "outputs": [],
   "source": [
    "def calclate_blocked_legit(y_true, y_pred):\n",
    "    c = 0\n",
    "    for i in range(len(y_true)):\n",
    "        if y_pred[i] == 's' and y_true[i] == 'l':\n",
    "            c += 1\n",
    "    return c"
   ],
   "metadata": {
    "collapsed": false,
    "pycharm": {
     "name": "#%%\n"
    }
   }
  },
  {
   "cell_type": "markdown",
   "source": [
    "### Обучение модели"
   ],
   "metadata": {
    "collapsed": false,
    "pycharm": {
     "name": "#%% md\n"
    }
   }
  },
  {
   "cell_type": "code",
   "execution_count": 8,
   "outputs": [
    {
     "output_type": "stream",
     "name": "stdout",
     "text": [
      "acc: 0.9788990825688074\n"
     ]
    }
   ],
   "source": [
    "X, y = get_data(1)\n",
    "accs = []\n",
    "for i in range(0, 10):\n",
    "    X_train, X_test, y_train, y_test = split_train_test(X, y, i)\n",
    "    clf = NB({'l': 1, 's': 1}, 0.01)\n",
    "    clf.fit(X_train, y_train)\n",
    "    y_pred, _ = clf.predict(X_test)\n",
    "    accs.append(accuracy_score(y_test, y_pred))\n",
    "print(f'acc: {sum(accs) / len(accs)}')"
   ],
   "metadata": {
    "collapsed": false,
    "pycharm": {
     "name": "#%%\n"
    }
   }
  },
  {
   "cell_type": "code",
   "source": [
    "X, y = get_data(1)\n",
    "clf = NB({'l': 1, 's': 1}, 0.01)\n",
    "X_train, X_test, y_train, y_test = split_train_test(X, y, 5)\n",
    "clf.fit(X_train, y_train)\n",
    "y_pred, y_roc = clf.predict(X_test)\n",
    "print(accuracy_score(y_test, y_pred))"
   ],
   "metadata": {
    "collapsed": false,
    "pycharm": {
     "name": "#%%\n"
    }
   },
   "execution_count": 64,
   "outputs": [
    {
     "data": {
      "text/plain": "IntProgress(value=0, max=109)",
      "application/vnd.jupyter.widget-view+json": {
       "version_major": 2,
       "version_minor": 0,
       "model_id": "50decc512d774eb9b78062ea5f016555"
      }
     },
     "metadata": {},
     "output_type": "display_data"
    },
    {
     "name": "stdout",
     "output_type": "stream",
     "text": [
      "0.963302752293578\n"
     ]
    }
   ]
  },
  {
   "cell_type": "markdown",
   "source": [
    "### Построение ROC-кривой"
   ],
   "metadata": {
    "collapsed": false,
    "pycharm": {
     "name": "#%% md\n"
    }
   }
  },
  {
   "cell_type": "code",
   "execution_count": 65,
   "outputs": [],
   "source": [
    "y_prob = list(zip(y_roc, y_test))\n",
    "y_prob.sort()"
   ],
   "metadata": {
    "collapsed": false,
    "pycharm": {
     "name": "#%%\n"
    }
   }
  },
  {
   "cell_type": "code",
   "execution_count": 66,
   "outputs": [],
   "source": [
    "labels = [obj[1] for obj in y_prob]"
   ],
   "metadata": {
    "collapsed": false,
    "pycharm": {
     "name": "#%%\n"
    }
   }
  },
  {
   "cell_type": "code",
   "execution_count": 67,
   "outputs": [],
   "source": [
    "legit_n = labels.count('l')"
   ],
   "metadata": {
    "collapsed": false,
    "pycharm": {
     "name": "#%%\n"
    }
   }
  },
  {
   "cell_type": "code",
   "execution_count": 68,
   "outputs": [],
   "source": [
    "spam_n = labels.count('s')"
   ],
   "metadata": {
    "collapsed": false,
    "pycharm": {
     "name": "#%%\n"
    }
   }
  },
  {
   "cell_type": "code",
   "execution_count": 69,
   "outputs": [],
   "source": [
    "points_x = [0]\n",
    "points_y = [0]\n",
    "for l in labels:\n",
    "    if l == 's':\n",
    "        points_y.append(1 / spam_n + points_y[-1])\n",
    "        points_x.append(points_x[-1])\n",
    "    else:\n",
    "        points_y.append(points_y[-1])\n",
    "        points_x.append(1 / legit_n + points_x[-1])\n",
    "const_x = np.linspace(0, 1, 30)\n",
    "const_y = np.linspace(0, 1, 30)"
   ],
   "metadata": {
    "collapsed": false,
    "pycharm": {
     "name": "#%%\n"
    }
   }
  },
  {
   "cell_type": "code",
   "source": [
    "plt.plot(points_x, points_y, label='Обученные классификатор')\n",
    "plt.plot(const_x, const_y, linestyle='--', label='Константный классификатор')\n",
    "plt.title('ROC-кривая')\n",
    "plt.xlabel('FP')\n",
    "plt.ylabel('TP')\n",
    "plt.gca().set_aspect('equal', adjustable='box')\n",
    "plt.legend()\n",
    "plt.show()"
   ],
   "metadata": {
    "collapsed": false,
    "pycharm": {
     "name": "#%%\n"
    }
   },
   "execution_count": 70,
   "outputs": [
    {
     "data": {
      "text/plain": "<Figure size 432x288 with 1 Axes>",
      "image/png": "[encoded data removed]"
     },
     "metadata": {
      "needs_background": "light"
     },
     "output_type": "display_data"
    }
   ]
  },
  {
   "cell_type": "markdown",
   "source": [
    "### Настройка $\\lambda$<sub>legit</sub>"
   ],
   "metadata": {
    "collapsed": false,
    "pycharm": {
     "name": "#%% md\n"
    }
   }
  },
  {
   "cell_type": "code",
   "execution_count": 9,
   "outputs": [],
   "source": [
    "X, y = get_data(1)\n",
    "blocked = -1\n",
    "i = 0\n",
    "accs = []\n",
    "X_train, X_test, y_train, y_test = split_train_test(X, y, 2)\n",
    "while blocked != 0:\n",
    "    clf = NB({'l': 10 ** i, 's': 1}, 0.01)\n",
    "    clf.fit(X_train, y_train)\n",
    "    y_pred, _ = clf.predict(X_test)\n",
    "    accs.append(accuracy_score(y_test, y_pred))\n",
    "    blocked = calclate_blocked_legit(y_test, y_pred)\n",
    "    i += 5\n",
    "powers = [i * 5 for i in range(len(accs))]"
   ],
   "metadata": {
    "collapsed": false,
    "pycharm": {
     "name": "#%%\n"
    }
   }
  },
  {
   "cell_type": "code",
   "execution_count": 10,
   "metadata": {},
   "outputs": [
    {
     "output_type": "stream",
     "name": "stdout",
     "text": [
      "{'l': 10000000000000000000000000, 's': 1}\n"
     ]
    }
   ],
   "source": [
    "print(clf.lambdas) #25"
   ]
  },
  {
   "cell_type": "code",
   "execution_count": 72,
   "outputs": [
    {
     "data": {
      "text/plain": "<Figure size 432x288 with 1 Axes>",
      "image/png": "[encoded data removed]"
     },
     "metadata": {
      "needs_background": "light"
     },
     "output_type": "display_data"
    }
   ],
   "source": [
    "plt.plot(powers, accs)\n",
    "plt.xlabel('log(lmd_legit)')\n",
    "plt.ylabel('accuracy')\n",
    "plt.title('Зависимость качества работы алгоритма от логарифма штрафа')\n",
    "plt.show()"
   ],
   "metadata": {
    "collapsed": false,
    "pycharm": {
     "name": "#%%\n"
    }
   }
  }
 ],
 "metadata": {
  "kernelspec": {
   "display_name": "Python 3",
   "language": "python",
   "name": "python3"
  },
  "language_info": {
   "codemirror_mode": {
    "name": "ipython",
    "version": 2
   },
   "file_extension": ".py",
   "mimetype": "text/x-python",
   "name": "python",
   "nbconvert_exporter": "python",
   "pygments_lexer": "ipython2",
   "version": "3.8.5-final"
  }
 },
 "nbformat": 4,
 "nbformat_minor": 0
}