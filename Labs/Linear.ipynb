{
 "cells": [
  {
   "cell_type": "code",
   "execution_count": 63,
   "metadata": {},
   "outputs": [],
   "source": [
    "import pandas as pd\n",
    "import numpy as np\n",
    "from numpy import linalg as LA\n",
    "import math\n",
    "import random\n",
    "from matplotlib import pyplot as plt\n",
    "from scipy.spatial import distance\n",
    "filename = \"datasets/LR/1.txt\""
   ]
  },
  {
   "cell_type": "code",
   "execution_count": 64,
   "metadata": {},
   "outputs": [
    {
     "output_type": "execute_result",
     "data": {
      "text/plain": [
       "          0       1       2       3     4       5      6        7       8    \\\n",
       "0      861813 -109689 -501867  299787  2720 -596749  95961   -43490  451227   \n",
       "1      734897 -109701 -501867  299787  2720 -596756  95864    46535  451227   \n",
       "2      893009 -109653 -501867  299787  2720 -596728  96258   -65515  451227   \n",
       "3      898311 -109683 -501867  299787  2720 -596745  96013   -69651  451227   \n",
       "4      423466 -109710 -501867  299787  2720 -596761  95793   267483  451227   \n",
       "...       ...     ...     ...     ...   ...     ...    ...      ...     ...   \n",
       "1158  -783885 -109641 -501867  299787  2720 -596721  96362  1123176  451227   \n",
       "1159 -1140045 -109666 -501867  299787  2720 -596736  96152  1376080  451227   \n",
       "1160 -1527101 -109679 -501867  299787  2720 -596743  96048  1650786  451227   \n",
       "1161 -1280786 -109702 -501867  299787  2720 -596757  95856  1475536  451227   \n",
       "1162  -908471 -109641 -501867  299787  2720 -596721  96364  1211354  451227   \n",
       "\n",
       "         9    ...      419      420     421      422     423      424  \\\n",
       "0     994130  ...  -947883  1065965  213248  1469971 -213545  2727628   \n",
       "1     994130  ...  -111284  1065965  226791  1471724 -210350  2693318   \n",
       "2     994130  ...  -913285  1065965  195846  1490651 -175851  2704943   \n",
       "3     994130  ... -1185096  1065965  183087  1508697 -142958  2759332   \n",
       "4     994130  ... -1579790  1065965  249500  1491797 -173762  2592164   \n",
       "...      ...  ...      ...      ...     ...      ...     ...      ...   \n",
       "1158  994130  ...  1893436  1065965  187326  1794211  377456  2208200   \n",
       "1159  994130  ...  2213450  1065965  244103  1771122  335372  2083500   \n",
       "1160  994130  ...  1275907  1065965  283033  1780077  351694  1949769   \n",
       "1161  994130  ...  2233996  1065965  241648  1799090  386350  2093540   \n",
       "1162  994130  ...  1957978  1065965  175005  1834215  450374  2183722   \n",
       "\n",
       "          425      426     427       428  \n",
       "0     6259280 -1042685 -138552  -6219662  \n",
       "1     6219628 -1042685 -138631  -4472740  \n",
       "2     6223772 -1042685 -139484  -4250292  \n",
       "3     6305891 -1042685 -140297  -4055391  \n",
       "4     6097935 -1042685 -139536  -3929017  \n",
       "...       ...      ...     ...       ...  \n",
       "1158  5652754 -1042685 -153163  28524713  \n",
       "1159  5497137 -1042685 -152122  28728629  \n",
       "1160  5332871 -1042685 -152526  29616679  \n",
       "1161  5526842 -1042685 -153383  30608872  \n",
       "1162  5630057 -1042685 -154965  31885399  \n",
       "\n",
       "[1163 rows x 429 columns]"
      ],
      "text/html": "<div>\n<style scoped>\n    .dataframe tbody tr th:only-of-type {\n        vertical-align: middle;\n    }\n\n    .dataframe tbody tr th {\n        vertical-align: top;\n    }\n\n    .dataframe thead th {\n        text-align: right;\n    }\n</style>\n<table border=\"1\" class=\"dataframe\">\n  <thead>\n    <tr style=\"text-align: right;\">\n      <th></th>\n      <th>0</th>\n      <th>1</th>\n      <th>2</th>\n      <th>3</th>\n      <th>4</th>\n      <th>5</th>\n      <th>6</th>\n      <th>7</th>\n      <th>8</th>\n      <th>9</th>\n      <th>...</th>\n      <th>419</th>\n      <th>420</th>\n      <th>421</th>\n      <th>422</th>\n      <th>423</th>\n      <th>424</th>\n      <th>425</th>\n      <th>426</th>\n      <th>427</th>\n      <th>428</th>\n    </tr>\n  </thead>\n  <tbody>\n    <tr>\n      <th>0</th>\n      <td>861813</td>\n      <td>-109689</td>\n      <td>-501867</td>\n      <td>299787</td>\n      <td>2720</td>\n      <td>-596749</td>\n      <td>95961</td>\n      <td>-43490</td>\n      <td>451227</td>\n      <td>994130</td>\n      <td>...</td>\n      <td>-947883</td>\n      <td>1065965</td>\n      <td>213248</td>\n      <td>1469971</td>\n      <td>-213545</td>\n      <td>2727628</td>\n      <td>6259280</td>\n      <td>-1042685</td>\n      <td>-138552</td>\n      <td>-6219662</td>\n    </tr>\n    <tr>\n      <th>1</th>\n      <td>734897</td>\n      <td>-109701</td>\n      <td>-501867</td>\n      <td>299787</td>\n      <td>2720</td>\n      <td>-596756</td>\n      <td>95864</td>\n      <td>46535</td>\n      <td>451227</td>\n      <td>994130</td>\n      <td>...</td>\n      <td>-111284</td>\n      <td>1065965</td>\n      <td>226791</td>\n      <td>1471724</td>\n      <td>-210350</td>\n      <td>2693318</td>\n      <td>6219628</td>\n      <td>-1042685</td>\n      <td>-138631</td>\n      <td>-4472740</td>\n    </tr>\n    <tr>\n      <th>2</th>\n      <td>893009</td>\n      <td>-109653</td>\n      <td>-501867</td>\n      <td>299787</td>\n      <td>2720</td>\n      <td>-596728</td>\n      <td>96258</td>\n      <td>-65515</td>\n      <td>451227</td>\n      <td>994130</td>\n      <td>...</td>\n      <td>-913285</td>\n      <td>1065965</td>\n      <td>195846</td>\n      <td>1490651</td>\n      <td>-175851</td>\n      <td>2704943</td>\n      <td>6223772</td>\n      <td>-1042685</td>\n      <td>-139484</td>\n      <td>-4250292</td>\n    </tr>\n    <tr>\n      <th>3</th>\n      <td>898311</td>\n      <td>-109683</td>\n      <td>-501867</td>\n      <td>299787</td>\n      <td>2720</td>\n      <td>-596745</td>\n      <td>96013</td>\n      <td>-69651</td>\n      <td>451227</td>\n      <td>994130</td>\n      <td>...</td>\n      <td>-1185096</td>\n      <td>1065965</td>\n      <td>183087</td>\n      <td>1508697</td>\n      <td>-142958</td>\n      <td>2759332</td>\n      <td>6305891</td>\n      <td>-1042685</td>\n      <td>-140297</td>\n      <td>-4055391</td>\n    </tr>\n    <tr>\n      <th>4</th>\n      <td>423466</td>\n      <td>-109710</td>\n      <td>-501867</td>\n      <td>299787</td>\n      <td>2720</td>\n      <td>-596761</td>\n      <td>95793</td>\n      <td>267483</td>\n      <td>451227</td>\n      <td>994130</td>\n      <td>...</td>\n      <td>-1579790</td>\n      <td>1065965</td>\n      <td>249500</td>\n      <td>1491797</td>\n      <td>-173762</td>\n      <td>2592164</td>\n      <td>6097935</td>\n      <td>-1042685</td>\n      <td>-139536</td>\n      <td>-3929017</td>\n    </tr>\n    <tr>\n      <th>...</th>\n      <td>...</td>\n      <td>...</td>\n      <td>...</td>\n      <td>...</td>\n      <td>...</td>\n      <td>...</td>\n      <td>...</td>\n      <td>...</td>\n      <td>...</td>\n      <td>...</td>\n      <td>...</td>\n      <td>...</td>\n      <td>...</td>\n      <td>...</td>\n      <td>...</td>\n      <td>...</td>\n      <td>...</td>\n      <td>...</td>\n      <td>...</td>\n      <td>...</td>\n      <td>...</td>\n    </tr>\n    <tr>\n      <th>1158</th>\n      <td>-783885</td>\n      <td>-109641</td>\n      <td>-501867</td>\n      <td>299787</td>\n      <td>2720</td>\n      <td>-596721</td>\n      <td>96362</td>\n      <td>1123176</td>\n      <td>451227</td>\n      <td>994130</td>\n      <td>...</td>\n      <td>1893436</td>\n      <td>1065965</td>\n      <td>187326</td>\n      <td>1794211</td>\n      <td>377456</td>\n      <td>2208200</td>\n      <td>5652754</td>\n      <td>-1042685</td>\n      <td>-153163</td>\n      <td>28524713</td>\n    </tr>\n    <tr>\n      <th>1159</th>\n      <td>-1140045</td>\n      <td>-109666</td>\n      <td>-501867</td>\n      <td>299787</td>\n      <td>2720</td>\n      <td>-596736</td>\n      <td>96152</td>\n      <td>1376080</td>\n      <td>451227</td>\n      <td>994130</td>\n      <td>...</td>\n      <td>2213450</td>\n      <td>1065965</td>\n      <td>244103</td>\n      <td>1771122</td>\n      <td>335372</td>\n      <td>2083500</td>\n      <td>5497137</td>\n      <td>-1042685</td>\n      <td>-152122</td>\n      <td>28728629</td>\n    </tr>\n    <tr>\n      <th>1160</th>\n      <td>-1527101</td>\n      <td>-109679</td>\n      <td>-501867</td>\n      <td>299787</td>\n      <td>2720</td>\n      <td>-596743</td>\n      <td>96048</td>\n      <td>1650786</td>\n      <td>451227</td>\n      <td>994130</td>\n      <td>...</td>\n      <td>1275907</td>\n      <td>1065965</td>\n      <td>283033</td>\n      <td>1780077</td>\n      <td>351694</td>\n      <td>1949769</td>\n      <td>5332871</td>\n      <td>-1042685</td>\n      <td>-152526</td>\n      <td>29616679</td>\n    </tr>\n    <tr>\n      <th>1161</th>\n      <td>-1280786</td>\n      <td>-109702</td>\n      <td>-501867</td>\n      <td>299787</td>\n      <td>2720</td>\n      <td>-596757</td>\n      <td>95856</td>\n      <td>1475536</td>\n      <td>451227</td>\n      <td>994130</td>\n      <td>...</td>\n      <td>2233996</td>\n      <td>1065965</td>\n      <td>241648</td>\n      <td>1799090</td>\n      <td>386350</td>\n      <td>2093540</td>\n      <td>5526842</td>\n      <td>-1042685</td>\n      <td>-153383</td>\n      <td>30608872</td>\n    </tr>\n    <tr>\n      <th>1162</th>\n      <td>-908471</td>\n      <td>-109641</td>\n      <td>-501867</td>\n      <td>299787</td>\n      <td>2720</td>\n      <td>-596721</td>\n      <td>96364</td>\n      <td>1211354</td>\n      <td>451227</td>\n      <td>994130</td>\n      <td>...</td>\n      <td>1957978</td>\n      <td>1065965</td>\n      <td>175005</td>\n      <td>1834215</td>\n      <td>450374</td>\n      <td>2183722</td>\n      <td>5630057</td>\n      <td>-1042685</td>\n      <td>-154965</td>\n      <td>31885399</td>\n    </tr>\n  </tbody>\n</table>\n<p>1163 rows × 429 columns</p>\n</div>"
     },
     "metadata": {},
     "execution_count": 64
    }
   ],
   "source": [
    "val = pd.read_csv(filename, nrows=2, header=None)\n",
    "NPARAMS = val[0][0]\n",
    "NTRAIN = val[0][1]\n",
    "dataset = pd.read_csv(filename, sep=' ', skiprows=2, nrows=NTRAIN-1, header=None)\n",
    "pd.DataFrame(dataset.values)"
   ]
  },
  {
   "cell_type": "code",
   "execution_count": 65,
   "metadata": {},
   "outputs": [
    {
     "output_type": "execute_result",
     "data": {
      "text/plain": [
       "        0       1       2       3     4       5      6        7       8    \\\n",
       "0   -213410 -109667 -501867  299787  2720 -596736  96145   719579  451227   \n",
       "1   -533970 -109671 -501867  299787  2720 -596738  96115   946796  451227   \n",
       "2   -733427 -109690 -501867  299787  2720 -596750  95954  1087906  451227   \n",
       "3   -250862 -109705 -501867  299787  2720 -596758  95836   745704  451227   \n",
       "4   -442390 -109682 -501867  299787  2720 -596745  96023   881138  451227   \n",
       "..      ...     ...     ...     ...   ...     ...    ...      ...     ...   \n",
       "251  -50290 -109679 -501867  299787  2720 -596743  96043   602522  451227   \n",
       "252  -54201 -109665 -501867  299787  2720 -596735  96166   605603  451227   \n",
       "253 -877957 -109658 -501867  299787  2720 -596731  96219  1190965  451227   \n",
       "254   53396 -109673 -501867  299787  2720 -596740  96096   529691  451227   \n",
       "255  269477 -109632 -501867  299787  2720 -596715  96438   377050  451227   \n",
       "\n",
       "        9    ...      419      420     421      422     423      424      425  \\\n",
       "0    994130  ...  -644531  1065965  276460  1562109  -45602  2322553  5756964   \n",
       "1    994130  ...   977058  1065965  277545  1616070   52753  2233148  5655865   \n",
       "2    994130  ...  1039057  1065965  266441  1667183  145919  2212326  5646204   \n",
       "3    994130  ...  -201972  1065965  265026  1585569   -2841  2373625  5838374   \n",
       "4    994130  ...  1063974  1065965  219380  1687008  182054  2331963  5799991   \n",
       "..      ...  ...      ...      ...     ...      ...     ...      ...      ...   \n",
       "251  994130  ...  1461331  1065965  157743  1711055  225885  2503093  6021912   \n",
       "252  994130  ...   861698  1065965  174845  1686240  180654  2464992  5963628   \n",
       "253  994130  ...   486251  1065965  298052  1645138  105736  2095741  5483434   \n",
       "254  994130  ...   297146  1065965  212943  1610667   42906  2470527  5957241   \n",
       "255  994130  ...  -577672  1065965  231021  1546322  -74378  2459325  5916578   \n",
       "\n",
       "         426     427       428  \n",
       "0   -1042685 -142704   6080887  \n",
       "1   -1042685 -145136  13552510  \n",
       "2   -1042685 -147439  17638943  \n",
       "3   -1042685 -143761   7742576  \n",
       "4   -1042685 -148332  17711406  \n",
       "..       ...     ...       ...  \n",
       "251 -1042685 -149416  17999524  \n",
       "252 -1042685 -148297  15783233  \n",
       "253 -1042685 -146445  16704809  \n",
       "254 -1042685 -144892   9247809  \n",
       "255 -1042685 -141993   3439024  \n",
       "\n",
       "[256 rows x 429 columns]"
      ],
      "text/html": "<div>\n<style scoped>\n    .dataframe tbody tr th:only-of-type {\n        vertical-align: middle;\n    }\n\n    .dataframe tbody tr th {\n        vertical-align: top;\n    }\n\n    .dataframe thead th {\n        text-align: right;\n    }\n</style>\n<table border=\"1\" class=\"dataframe\">\n  <thead>\n    <tr style=\"text-align: right;\">\n      <th></th>\n      <th>0</th>\n      <th>1</th>\n      <th>2</th>\n      <th>3</th>\n      <th>4</th>\n      <th>5</th>\n      <th>6</th>\n      <th>7</th>\n      <th>8</th>\n      <th>9</th>\n      <th>...</th>\n      <th>419</th>\n      <th>420</th>\n      <th>421</th>\n      <th>422</th>\n      <th>423</th>\n      <th>424</th>\n      <th>425</th>\n      <th>426</th>\n      <th>427</th>\n      <th>428</th>\n    </tr>\n  </thead>\n  <tbody>\n    <tr>\n      <th>0</th>\n      <td>-213410</td>\n      <td>-109667</td>\n      <td>-501867</td>\n      <td>299787</td>\n      <td>2720</td>\n      <td>-596736</td>\n      <td>96145</td>\n      <td>719579</td>\n      <td>451227</td>\n      <td>994130</td>\n      <td>...</td>\n      <td>-644531</td>\n      <td>1065965</td>\n      <td>276460</td>\n      <td>1562109</td>\n      <td>-45602</td>\n      <td>2322553</td>\n      <td>5756964</td>\n      <td>-1042685</td>\n      <td>-142704</td>\n      <td>6080887</td>\n    </tr>\n    <tr>\n      <th>1</th>\n      <td>-533970</td>\n      <td>-109671</td>\n      <td>-501867</td>\n      <td>299787</td>\n      <td>2720</td>\n      <td>-596738</td>\n      <td>96115</td>\n      <td>946796</td>\n      <td>451227</td>\n      <td>994130</td>\n      <td>...</td>\n      <td>977058</td>\n      <td>1065965</td>\n      <td>277545</td>\n      <td>1616070</td>\n      <td>52753</td>\n      <td>2233148</td>\n      <td>5655865</td>\n      <td>-1042685</td>\n      <td>-145136</td>\n      <td>13552510</td>\n    </tr>\n    <tr>\n      <th>2</th>\n      <td>-733427</td>\n      <td>-109690</td>\n      <td>-501867</td>\n      <td>299787</td>\n      <td>2720</td>\n      <td>-596750</td>\n      <td>95954</td>\n      <td>1087906</td>\n      <td>451227</td>\n      <td>994130</td>\n      <td>...</td>\n      <td>1039057</td>\n      <td>1065965</td>\n      <td>266441</td>\n      <td>1667183</td>\n      <td>145919</td>\n      <td>2212326</td>\n      <td>5646204</td>\n      <td>-1042685</td>\n      <td>-147439</td>\n      <td>17638943</td>\n    </tr>\n    <tr>\n      <th>3</th>\n      <td>-250862</td>\n      <td>-109705</td>\n      <td>-501867</td>\n      <td>299787</td>\n      <td>2720</td>\n      <td>-596758</td>\n      <td>95836</td>\n      <td>745704</td>\n      <td>451227</td>\n      <td>994130</td>\n      <td>...</td>\n      <td>-201972</td>\n      <td>1065965</td>\n      <td>265026</td>\n      <td>1585569</td>\n      <td>-2841</td>\n      <td>2373625</td>\n      <td>5838374</td>\n      <td>-1042685</td>\n      <td>-143761</td>\n      <td>7742576</td>\n    </tr>\n    <tr>\n      <th>4</th>\n      <td>-442390</td>\n      <td>-109682</td>\n      <td>-501867</td>\n      <td>299787</td>\n      <td>2720</td>\n      <td>-596745</td>\n      <td>96023</td>\n      <td>881138</td>\n      <td>451227</td>\n      <td>994130</td>\n      <td>...</td>\n      <td>1063974</td>\n      <td>1065965</td>\n      <td>219380</td>\n      <td>1687008</td>\n      <td>182054</td>\n      <td>2331963</td>\n      <td>5799991</td>\n      <td>-1042685</td>\n      <td>-148332</td>\n      <td>17711406</td>\n    </tr>\n    <tr>\n      <th>...</th>\n      <td>...</td>\n      <td>...</td>\n      <td>...</td>\n      <td>...</td>\n      <td>...</td>\n      <td>...</td>\n      <td>...</td>\n      <td>...</td>\n      <td>...</td>\n      <td>...</td>\n      <td>...</td>\n      <td>...</td>\n      <td>...</td>\n      <td>...</td>\n      <td>...</td>\n      <td>...</td>\n      <td>...</td>\n      <td>...</td>\n      <td>...</td>\n      <td>...</td>\n      <td>...</td>\n    </tr>\n    <tr>\n      <th>251</th>\n      <td>-50290</td>\n      <td>-109679</td>\n      <td>-501867</td>\n      <td>299787</td>\n      <td>2720</td>\n      <td>-596743</td>\n      <td>96043</td>\n      <td>602522</td>\n      <td>451227</td>\n      <td>994130</td>\n      <td>...</td>\n      <td>1461331</td>\n      <td>1065965</td>\n      <td>157743</td>\n      <td>1711055</td>\n      <td>225885</td>\n      <td>2503093</td>\n      <td>6021912</td>\n      <td>-1042685</td>\n      <td>-149416</td>\n      <td>17999524</td>\n    </tr>\n    <tr>\n      <th>252</th>\n      <td>-54201</td>\n      <td>-109665</td>\n      <td>-501867</td>\n      <td>299787</td>\n      <td>2720</td>\n      <td>-596735</td>\n      <td>96166</td>\n      <td>605603</td>\n      <td>451227</td>\n      <td>994130</td>\n      <td>...</td>\n      <td>861698</td>\n      <td>1065965</td>\n      <td>174845</td>\n      <td>1686240</td>\n      <td>180654</td>\n      <td>2464992</td>\n      <td>5963628</td>\n      <td>-1042685</td>\n      <td>-148297</td>\n      <td>15783233</td>\n    </tr>\n    <tr>\n      <th>253</th>\n      <td>-877957</td>\n      <td>-109658</td>\n      <td>-501867</td>\n      <td>299787</td>\n      <td>2720</td>\n      <td>-596731</td>\n      <td>96219</td>\n      <td>1190965</td>\n      <td>451227</td>\n      <td>994130</td>\n      <td>...</td>\n      <td>486251</td>\n      <td>1065965</td>\n      <td>298052</td>\n      <td>1645138</td>\n      <td>105736</td>\n      <td>2095741</td>\n      <td>5483434</td>\n      <td>-1042685</td>\n      <td>-146445</td>\n      <td>16704809</td>\n    </tr>\n    <tr>\n      <th>254</th>\n      <td>53396</td>\n      <td>-109673</td>\n      <td>-501867</td>\n      <td>299787</td>\n      <td>2720</td>\n      <td>-596740</td>\n      <td>96096</td>\n      <td>529691</td>\n      <td>451227</td>\n      <td>994130</td>\n      <td>...</td>\n      <td>297146</td>\n      <td>1065965</td>\n      <td>212943</td>\n      <td>1610667</td>\n      <td>42906</td>\n      <td>2470527</td>\n      <td>5957241</td>\n      <td>-1042685</td>\n      <td>-144892</td>\n      <td>9247809</td>\n    </tr>\n    <tr>\n      <th>255</th>\n      <td>269477</td>\n      <td>-109632</td>\n      <td>-501867</td>\n      <td>299787</td>\n      <td>2720</td>\n      <td>-596715</td>\n      <td>96438</td>\n      <td>377050</td>\n      <td>451227</td>\n      <td>994130</td>\n      <td>...</td>\n      <td>-577672</td>\n      <td>1065965</td>\n      <td>231021</td>\n      <td>1546322</td>\n      <td>-74378</td>\n      <td>2459325</td>\n      <td>5916578</td>\n      <td>-1042685</td>\n      <td>-141993</td>\n      <td>3439024</td>\n    </tr>\n  </tbody>\n</table>\n<p>256 rows × 429 columns</p>\n</div>"
     },
     "metadata": {},
     "execution_count": 65
    }
   ],
   "source": [
    "test_dataset = pd.read_csv(filename, sep=' ', skiprows=3+NTRAIN, header=None)\n",
    "NTEST = len(test_dataset)\n",
    "pd.DataFrame(test_dataset.values)"
   ]
  },
  {
   "cell_type": "code",
   "execution_count": 66,
   "metadata": {},
   "outputs": [
    {
     "output_type": "stream",
     "name": "stdout",
     "text": [
      "Number of parameters: 428\nNumber of objects in training dataset: 1164\nNumber of objects in test dataset: 256\n"
     ]
    }
   ],
   "source": [
    "print(\"Number of parameters: %d\" % NPARAMS)\n",
    "print(\"Number of objects in training dataset: %d\" % NTRAIN)\n",
    "print(\"Number of objects in test dataset: %d\" % NTEST)"
   ]
  },
  {
   "source": [
    "**The method of least squares**"
   ],
   "cell_type": "markdown",
   "metadata": {}
  },
  {
   "cell_type": "code",
   "execution_count": 67,
   "metadata": {},
   "outputs": [],
   "source": [
    "F = np.array(dataset)[:,:-1] # objects matrix\n",
    "Y = np.array(dataset)[:,-1] # answers vector\n",
    "teta = np.matmul(LA.pinv(F), Y) # teta vector"
   ]
  },
  {
   "cell_type": "code",
   "execution_count": 68,
   "metadata": {},
   "outputs": [],
   "source": [
    "def RS(X, Y, tau): \n",
    "    # diffirintiate risk function to get optimal teta \n",
    "    return LA.pinv(np.add(X.T.dot(X), np.cov(X.T).dot(tau) )).dot(X.T).dot(Y) # also can use inverse matrix"
   ]
  },
  {
   "cell_type": "code",
   "execution_count": 69,
   "metadata": {},
   "outputs": [],
   "source": [
    "def RSS(F, Y, sig):\n",
    "    # lets add regularization to risk function\n",
    "    tau = 1 / sig\n",
    "    teta = RS(F, Y, tau)\n",
    "    return LA.norm(F.dot(teta) - Y) ** 2 + (0.5 * LA.norm(teta) ** 2) / sig "
   ]
  },
  {
   "cell_type": "code",
   "execution_count": 70,
   "metadata": {},
   "outputs": [],
   "source": [
    "# minimaze empirical risk and finding optimized tau(sigma)\n",
    "best = 99999999999999\n",
    "best_sig = 0\n",
    "for s in range(991800, 992000, 10):\n",
    "    res = RSS(F, Y, s)\n",
    "    if res < best:\n",
    "        best = res\n",
    "        best_sig = s"
   ]
  },
  {
   "cell_type": "code",
   "execution_count": 71,
   "metadata": {},
   "outputs": [
    {
     "output_type": "stream",
     "name": "stdout",
     "text": [
      "Minimal empirical risk: 13476655976.11795 reached with sigma: 991860 (tau: 1.0082068033795092e-06) \n"
     ]
    }
   ],
   "source": [
    "print(\"Minimal empirical risk: {} reached with sigma: {} (tau: {}) \".format(best, best_sig, 1/best_sig))"
   ]
  },
  {
   "source": [
    "**Stochastic gradient descent method**"
   ],
   "cell_type": "markdown",
   "metadata": {}
  },
  {
   "cell_type": "code",
   "execution_count": 72,
   "metadata": {},
   "outputs": [],
   "source": [
    "def nrmse(actual, predicted):\n",
    "    # normalized root-mean-square error measure\n",
    "    mse = np.mean(np.square(actual - predicted))\n",
    "    return np.sqrt(mse) / (actual.max() - actual.min())"
   ]
  },
  {
   "cell_type": "code",
   "execution_count": 73,
   "metadata": {},
   "outputs": [],
   "source": [
    "def estimate(ds):\n",
    "    pred = ds.values[::,:-1:]@teta # classificate\n",
    "    return nrmse(pred, ds.values.T[-1])"
   ]
  },
  {
   "cell_type": "code",
   "execution_count": 74,
   "metadata": {},
   "outputs": [
    {
     "output_type": "stream",
     "name": "stdout",
     "text": [
      "NRMSE for LS method on train dataset: 7.864915628152319e-05\nNRMSE for LS method on test dataset: 6.177472061442368e-05\n"
     ]
    }
   ],
   "source": [
    "print(\"NRMSE for LS method on train dataset: %s\" % estimate(dataset))\n",
    "print(\"NRMSE for LS method on test dataset: %s\" % estimate(test_dataset))"
   ]
  },
  {
   "cell_type": "code",
   "execution_count": 75,
   "metadata": {},
   "outputs": [],
   "source": [
    "def L(predict, real):\n",
    "    # loss func\n",
    "    return (predict - real) ** 2\n",
    "\n",
    "\n",
    "def L_der(predict, real):\n",
    "    # derivative of loss func\n",
    "    return 2 * (predict - real)"
   ]
  },
  {
   "cell_type": "code",
   "execution_count": 76,
   "metadata": {},
   "outputs": [],
   "source": [
    "def init_w(n_param):\n",
    "    # initialize weight vector\n",
    "    random.seed()\n",
    "    return [random.uniform(-1/(2*n_param), 1/(2*n_param)) for i in range(n_param)]"
   ]
  },
  {
   "cell_type": "code",
   "execution_count": 77,
   "metadata": {},
   "outputs": [],
   "source": [
    "def init_q(X, Y, w):\n",
    "    # initialize esimator\n",
    "    Q = 0\n",
    "    for i in range(len(X)):\n",
    "        Q += L(scalar_product(X[i], w), Y[i])\n",
    "    return Q / len(X)"
   ]
  },
  {
   "cell_type": "code",
   "execution_count": 78,
   "metadata": {},
   "outputs": [],
   "source": [
    "def scalar_product(a, b):\n",
    "    result = 0\n",
    "    for i in range(len(a)):\n",
    "        result += a[i] * b[i]\n",
    "    return result"
   ]
  },
  {
   "cell_type": "code",
   "execution_count": 79,
   "metadata": {},
   "outputs": [],
   "source": [
    "def SGD(X, Y, tau, iterations_limit=2000, with_Q_limit=True):\n",
    "    objects, features = len(X), len(X[0])\n",
    "    w = init_w(features)\n",
    "    Q = init_q(X, Y, w)\n",
    "    iterations = 0\n",
    "    while True:\n",
    "        iterations += 1\n",
    "        k = random.randint(0, objects - 1)\n",
    "        x, y = X[k], Y[k]   # select random object\n",
    "        predict = scalar_product(x, w)\n",
    "        loss = L(predict, y) + 0.5 * tau * np.linalg.norm(w) # estimate loss with regularization (tau)\n",
    "        l_rate = 0.009 / iterations\n",
    "        for i in range(features):\n",
    "            gradient = L_der(predict, y) * x[i]\n",
    "            # w = w(1−hτ)−h∇Li(w) \n",
    "            w[i] = w[i] * (1 - l_rate * tau) - l_rate * gradient\n",
    "        decay = 0.1\n",
    "        Q_previous = Q\n",
    "        Q = (1 - decay) * Q + decay * loss\n",
    "        if iterations == iterations_limit or (abs(Q - Q_previous) < 0.000001 and with_Q_limit):\n",
    "            break\n",
    "        #print(w)\n",
    "    return w"
   ]
  },
  {
   "cell_type": "code",
   "execution_count": 80,
   "metadata": {},
   "outputs": [],
   "source": [
    "def draw_graph(x_values, y_values, x_name, y_name, title):\n",
    "    plt.plot(x_values, y_values, 'b')\n",
    "    plt.xlabel(x_name)\n",
    "    plt.ylabel(y_name)\n",
    "    #plt.xscale('log')\n",
    "    plt.title(title)\n",
    "    plt.show()"
   ]
  },
  {
   "cell_type": "code",
   "execution_count": 81,
   "metadata": {
    "tags": []
   },
   "outputs": [],
   "source": [
    "def visual(X, Y, I, title):\n",
    "    vals = []\n",
    "    for iter in range(I):\n",
    "        W = SGD(X, Y, 0.0000010082, iter, False)\n",
    "        vals.append( nrmse(Y, Y@np.array(W)) )\n",
    "    draw_graph(list(range(I)), vals, \"iterations\", \"nrmse\", title)"
   ]
  },
  {
   "cell_type": "code",
   "execution_count": 82,
   "metadata": {},
   "outputs": [],
   "source": [
    "# dataset normalization\n",
    "def find_minmax_X(X):\n",
    "    minmax = np.zeros((len(X[0]), 2))\n",
    "    for i in range(len(X[0])):\n",
    "        column = X[:, i]\n",
    "        minmax[i] = [column.min(), column.max()]\n",
    "    return minmax\n",
    "\n",
    "\n",
    "def find_minmax_Y(Y):\n",
    "    return np.array([Y.min(), Y.max()])\n",
    "\n",
    "\n",
    "def normalize(X, Y, with_constant_feature=True):\n",
    "    X_normalized, Y_normalized = np.zeros(np.shape(X)), np.zeros(np.shape(Y))\n",
    "    minmax_X, minmax_Y = find_minmax_X(X), find_minmax_Y(Y)\n",
    "    for i in range(len(X)):\n",
    "        Y_normalized[i] = (Y[i] - minmax_Y[0]) / (minmax_Y[1] - minmax_Y[0])\n",
    "        for j in range(len(X[0])):\n",
    "            if with_constant_feature and j == 0:\n",
    "                X_normalized[i][0] = 1\n",
    "            elif minmax_X[j][0] == minmax_X[j][1]:\n",
    "                X_normalized[i][j] = 0\n",
    "            else:\n",
    "                X_normalized[i][j] = (X[i][j] - minmax_X[j][0]) / (minmax_X[j][1] - minmax_X[j][0])\n",
    "    return X_normalized, Y_normalized"
   ]
  },
  {
   "cell_type": "code",
   "execution_count": 83,
   "metadata": {},
   "outputs": [],
   "source": [
    "visual(*normalize(F, Y), 300, \"Training\")"
   ]
  },
  {
   "cell_type": "code",
   "execution_count": 62,
   "metadata": {},
   "outputs": [
    {
     "output_type": "error",
     "ename": "KeyboardInterrupt",
     "evalue": "",
     "traceback": [
      "\u001b[0;31m---------------------------------------------------------------------------\u001b[0m",
      "\u001b[0;31mKeyboardInterrupt\u001b[0m                         Traceback (most recent call last)",
      "\u001b[0;32m<ipython-input-62-2d895417e2ab>\u001b[0m in \u001b[0;36m<module>\u001b[0;34m\u001b[0m\n\u001b[1;32m      2\u001b[0m \u001b[0mY_t\u001b[0m \u001b[0;34m=\u001b[0m \u001b[0mnp\u001b[0m\u001b[0;34m.\u001b[0m\u001b[0marray\u001b[0m\u001b[0;34m(\u001b[0m\u001b[0mtest_dataset\u001b[0m\u001b[0;34m)\u001b[0m\u001b[0;34m[\u001b[0m\u001b[0;34m:\u001b[0m\u001b[0;34m,\u001b[0m\u001b[0;34m-\u001b[0m\u001b[0;36m1\u001b[0m\u001b[0;34m]\u001b[0m \u001b[0;31m# answers vector\u001b[0m\u001b[0;34m\u001b[0m\u001b[0;34m\u001b[0m\u001b[0m\n\u001b[1;32m      3\u001b[0m \u001b[0;34m\u001b[0m\u001b[0m\n\u001b[0;32m----> 4\u001b[0;31m \u001b[0mvisual\u001b[0m\u001b[0;34m(\u001b[0m\u001b[0;34m*\u001b[0m\u001b[0mnormalize\u001b[0m\u001b[0;34m(\u001b[0m\u001b[0mF_t\u001b[0m\u001b[0;34m,\u001b[0m \u001b[0mY_t\u001b[0m\u001b[0;34m)\u001b[0m\u001b[0;34m,\u001b[0m \u001b[0;36m50\u001b[0m\u001b[0;34m,\u001b[0m \u001b[0;34m\"Test\"\u001b[0m\u001b[0;34m)\u001b[0m\u001b[0;34m\u001b[0m\u001b[0;34m\u001b[0m\u001b[0m\n\u001b[0m",
      "\u001b[0;32m<ipython-input-60-5f3e3eafdf3e>\u001b[0m in \u001b[0;36mvisual\u001b[0;34m(X, Y, I, title)\u001b[0m\n\u001b[1;32m      2\u001b[0m     \u001b[0mvals\u001b[0m \u001b[0;34m=\u001b[0m \u001b[0;34m[\u001b[0m\u001b[0;34m]\u001b[0m\u001b[0;34m\u001b[0m\u001b[0;34m\u001b[0m\u001b[0m\n\u001b[1;32m      3\u001b[0m     \u001b[0;32mfor\u001b[0m \u001b[0miter\u001b[0m \u001b[0;32min\u001b[0m \u001b[0mrange\u001b[0m\u001b[0;34m(\u001b[0m\u001b[0mI\u001b[0m\u001b[0;34m)\u001b[0m\u001b[0;34m:\u001b[0m\u001b[0;34m\u001b[0m\u001b[0;34m\u001b[0m\u001b[0m\n\u001b[0;32m----> 4\u001b[0;31m         \u001b[0mW\u001b[0m \u001b[0;34m=\u001b[0m \u001b[0mSGD\u001b[0m\u001b[0;34m(\u001b[0m\u001b[0mX\u001b[0m\u001b[0;34m,\u001b[0m \u001b[0mY\u001b[0m\u001b[0;34m,\u001b[0m \u001b[0;36m0.0000010082\u001b[0m\u001b[0;34m,\u001b[0m \u001b[0miter\u001b[0m\u001b[0;34m,\u001b[0m \u001b[0;32mFalse\u001b[0m\u001b[0;34m)\u001b[0m\u001b[0;34m\u001b[0m\u001b[0;34m\u001b[0m\u001b[0m\n\u001b[0m\u001b[1;32m      5\u001b[0m         \u001b[0mvals\u001b[0m\u001b[0;34m.\u001b[0m\u001b[0mappend\u001b[0m\u001b[0;34m(\u001b[0m \u001b[0mnrmse\u001b[0m\u001b[0;34m(\u001b[0m\u001b[0mY\u001b[0m\u001b[0;34m,\u001b[0m \u001b[0mdataset\u001b[0m\u001b[0;34m.\u001b[0m\u001b[0mvalues\u001b[0m\u001b[0;34m[\u001b[0m\u001b[0;34m:\u001b[0m\u001b[0;34m:\u001b[0m\u001b[0;34m,\u001b[0m\u001b[0;34m:\u001b[0m\u001b[0;34m-\u001b[0m\u001b[0;36m1\u001b[0m\u001b[0;34m:\u001b[0m\u001b[0;34m]\u001b[0m\u001b[0;34m@\u001b[0m\u001b[0mnp\u001b[0m\u001b[0;34m.\u001b[0m\u001b[0marray\u001b[0m\u001b[0;34m(\u001b[0m\u001b[0mW\u001b[0m\u001b[0;34m)\u001b[0m\u001b[0;34m)\u001b[0m \u001b[0;34m)\u001b[0m\u001b[0;34m\u001b[0m\u001b[0;34m\u001b[0m\u001b[0m\n\u001b[1;32m      6\u001b[0m     \u001b[0mdraw_graph\u001b[0m\u001b[0;34m(\u001b[0m\u001b[0mlist\u001b[0m\u001b[0;34m(\u001b[0m\u001b[0mrange\u001b[0m\u001b[0;34m(\u001b[0m\u001b[0mI\u001b[0m\u001b[0;34m)\u001b[0m\u001b[0;34m)\u001b[0m\u001b[0;34m,\u001b[0m \u001b[0mvals\u001b[0m\u001b[0;34m,\u001b[0m \u001b[0;34m\"iterations\"\u001b[0m\u001b[0;34m,\u001b[0m \u001b[0;34m\"nrmse\"\u001b[0m\u001b[0;34m,\u001b[0m \u001b[0mtitle\u001b[0m\u001b[0;34m)\u001b[0m\u001b[0;34m\u001b[0m\u001b[0;34m\u001b[0m\u001b[0m\n",
      "\u001b[0;32m<ipython-input-23-3c9ab67a351d>\u001b[0m in \u001b[0;36mSGD\u001b[0;34m(X, Y, tau, iterations_limit, with_Q_limit)\u001b[0m\n\u001b[1;32m     14\u001b[0m             \u001b[0mgradient\u001b[0m \u001b[0;34m=\u001b[0m \u001b[0mL_der\u001b[0m\u001b[0;34m(\u001b[0m\u001b[0mpredict\u001b[0m\u001b[0;34m,\u001b[0m \u001b[0my\u001b[0m\u001b[0;34m)\u001b[0m \u001b[0;34m*\u001b[0m \u001b[0mx\u001b[0m\u001b[0;34m[\u001b[0m\u001b[0mi\u001b[0m\u001b[0;34m]\u001b[0m\u001b[0;34m\u001b[0m\u001b[0;34m\u001b[0m\u001b[0m\n\u001b[1;32m     15\u001b[0m             \u001b[0;31m# w = w(1−hτ)−h∇Li(w)\u001b[0m\u001b[0;34m\u001b[0m\u001b[0;34m\u001b[0m\u001b[0;34m\u001b[0m\u001b[0m\n\u001b[0;32m---> 16\u001b[0;31m             \u001b[0mw\u001b[0m\u001b[0;34m[\u001b[0m\u001b[0mi\u001b[0m\u001b[0;34m]\u001b[0m \u001b[0;34m=\u001b[0m \u001b[0mw\u001b[0m\u001b[0;34m[\u001b[0m\u001b[0mi\u001b[0m\u001b[0;34m]\u001b[0m \u001b[0;34m*\u001b[0m \u001b[0;34m(\u001b[0m\u001b[0;36m1\u001b[0m \u001b[0;34m-\u001b[0m \u001b[0ml_rate\u001b[0m \u001b[0;34m*\u001b[0m \u001b[0mtau\u001b[0m\u001b[0;34m)\u001b[0m \u001b[0;34m-\u001b[0m \u001b[0ml_rate\u001b[0m \u001b[0;34m*\u001b[0m \u001b[0mgradient\u001b[0m\u001b[0;34m\u001b[0m\u001b[0;34m\u001b[0m\u001b[0m\n\u001b[0m\u001b[1;32m     17\u001b[0m         \u001b[0mdecay\u001b[0m \u001b[0;34m=\u001b[0m \u001b[0;36m0.1\u001b[0m\u001b[0;34m\u001b[0m\u001b[0;34m\u001b[0m\u001b[0m\n\u001b[1;32m     18\u001b[0m         \u001b[0mQ_previous\u001b[0m \u001b[0;34m=\u001b[0m \u001b[0mQ\u001b[0m\u001b[0;34m\u001b[0m\u001b[0;34m\u001b[0m\u001b[0m\n",
      "\u001b[0;31mKeyboardInterrupt\u001b[0m: "
     ]
    }
   ],
   "source": [
    "F_t = np.array(test_dataset)[:,:-1] # objects matrix\n",
    "Y_t = np.array(test_dataset)[:,-1] # answers vector\n",
    "\n",
    "visual(*normalize(F_t, Y_t), 50, \"Test\")"
   ]
  },
  {
   "cell_type": "code",
   "execution_count": null,
   "metadata": {},
   "outputs": [],
   "source": []
  }
 ],
 "metadata": {
  "kernelspec": {
   "display_name": "Python 3",
   "language": "python",
   "name": "python3"
  },
  "language_info": {
   "codemirror_mode": {
    "name": "ipython",
    "version": 3
   },
   "file_extension": ".py",
   "mimetype": "text/x-python",
   "name": "python",
   "nbconvert_exporter": "python",
   "pygments_lexer": "ipython3",
   "version": "3.8.5-final"
  }
 },
 "nbformat": 4,
 "nbformat_minor": 2
}