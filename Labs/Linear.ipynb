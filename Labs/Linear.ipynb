{
 "cells": [
  {
   "cell_type": "code",
   "execution_count": 1,
   "metadata": {},
   "outputs": [],
   "source": [
    "import pandas as pd\n",
    "import numpy as np\n",
    "from numpy import linalg as LA\n",
    "import math\n",
    "import random\n",
    "from matplotlib import pyplot as plt\n",
    "from scipy.spatial import distance\n",
    "filename = \"datasets/LR/1.txt\""
   ]
  },
  {
   "cell_type": "code",
   "execution_count": 2,
   "metadata": {},
   "outputs": [
    {
     "output_type": "execute_result",
     "data": {
      "text/plain": [
       "          0       1       2       3     4       5      6        7       8    \\\n",
       "0      861813 -109689 -501867  299787  2720 -596749  95961   -43490  451227   \n",
       "1      734897 -109701 -501867  299787  2720 -596756  95864    46535  451227   \n",
       "2      893009 -109653 -501867  299787  2720 -596728  96258   -65515  451227   \n",
       "3      898311 -109683 -501867  299787  2720 -596745  96013   -69651  451227   \n",
       "4      423466 -109710 -501867  299787  2720 -596761  95793   267483  451227   \n",
       "...       ...     ...     ...     ...   ...     ...    ...      ...     ...   \n",
       "1158  -783885 -109641 -501867  299787  2720 -596721  96362  1123176  451227   \n",
       "1159 -1140045 -109666 -501867  299787  2720 -596736  96152  1376080  451227   \n",
       "1160 -1527101 -109679 -501867  299787  2720 -596743  96048  1650786  451227   \n",
       "1161 -1280786 -109702 -501867  299787  2720 -596757  95856  1475536  451227   \n",
       "1162  -908471 -109641 -501867  299787  2720 -596721  96364  1211354  451227   \n",
       "\n",
       "         9    ...      419      420     421      422     423      424  \\\n",
       "0     994130  ...  -947883  1065965  213248  1469971 -213545  2727628   \n",
       "1     994130  ...  -111284  1065965  226791  1471724 -210350  2693318   \n",
       "2     994130  ...  -913285  1065965  195846  1490651 -175851  2704943   \n",
       "3     994130  ... -1185096  1065965  183087  1508697 -142958  2759332   \n",
       "4     994130  ... -1579790  1065965  249500  1491797 -173762  2592164   \n",
       "...      ...  ...      ...      ...     ...      ...     ...      ...   \n",
       "1158  994130  ...  1893436  1065965  187326  1794211  377456  2208200   \n",
       "1159  994130  ...  2213450  1065965  244103  1771122  335372  2083500   \n",
       "1160  994130  ...  1275907  1065965  283033  1780077  351694  1949769   \n",
       "1161  994130  ...  2233996  1065965  241648  1799090  386350  2093540   \n",
       "1162  994130  ...  1957978  1065965  175005  1834215  450374  2183722   \n",
       "\n",
       "          425      426     427       428  \n",
       "0     6259280 -1042685 -138552  -6219662  \n",
       "1     6219628 -1042685 -138631  -4472740  \n",
       "2     6223772 -1042685 -139484  -4250292  \n",
       "3     6305891 -1042685 -140297  -4055391  \n",
       "4     6097935 -1042685 -139536  -3929017  \n",
       "...       ...      ...     ...       ...  \n",
       "1158  5652754 -1042685 -153163  28524713  \n",
       "1159  5497137 -1042685 -152122  28728629  \n",
       "1160  5332871 -1042685 -152526  29616679  \n",
       "1161  5526842 -1042685 -153383  30608872  \n",
       "1162  5630057 -1042685 -154965  31885399  \n",
       "\n",
       "[1163 rows x 429 columns]"
      ],
      "text/html": "<div>\n<style scoped>\n    .dataframe tbody tr th:only-of-type {\n        vertical-align: middle;\n    }\n\n    .dataframe tbody tr th {\n        vertical-align: top;\n    }\n\n    .dataframe thead th {\n        text-align: right;\n    }\n</style>\n<table border=\"1\" class=\"dataframe\">\n  <thead>\n    <tr style=\"text-align: right;\">\n      <th></th>\n      <th>0</th>\n      <th>1</th>\n      <th>2</th>\n      <th>3</th>\n      <th>4</th>\n      <th>5</th>\n      <th>6</th>\n      <th>7</th>\n      <th>8</th>\n      <th>9</th>\n      <th>...</th>\n      <th>419</th>\n      <th>420</th>\n      <th>421</th>\n      <th>422</th>\n      <th>423</th>\n      <th>424</th>\n      <th>425</th>\n      <th>426</th>\n      <th>427</th>\n      <th>428</th>\n    </tr>\n  </thead>\n  <tbody>\n    <tr>\n      <th>0</th>\n      <td>861813</td>\n      <td>-109689</td>\n      <td>-501867</td>\n      <td>299787</td>\n      <td>2720</td>\n      <td>-596749</td>\n      <td>95961</td>\n      <td>-43490</td>\n      <td>451227</td>\n      <td>994130</td>\n      <td>...</td>\n      <td>-947883</td>\n      <td>1065965</td>\n      <td>213248</td>\n      <td>1469971</td>\n      <td>-213545</td>\n      <td>2727628</td>\n      <td>6259280</td>\n      <td>-1042685</td>\n      <td>-138552</td>\n      <td>-6219662</td>\n    </tr>\n    <tr>\n      <th>1</th>\n      <td>734897</td>\n      <td>-109701</td>\n      <td>-501867</td>\n      <td>299787</td>\n      <td>2720</td>\n      <td>-596756</td>\n      <td>95864</td>\n      <td>46535</td>\n      <td>451227</td>\n      <td>994130</td>\n      <td>...</td>\n      <td>-111284</td>\n      <td>1065965</td>\n      <td>226791</td>\n      <td>1471724</td>\n      <td>-210350</td>\n      <td>2693318</td>\n      <td>6219628</td>\n      <td>-1042685</td>\n      <td>-138631</td>\n      <td>-4472740</td>\n    </tr>\n    <tr>\n      <th>2</th>\n      <td>893009</td>\n      <td>-109653</td>\n      <td>-501867</td>\n      <td>299787</td>\n      <td>2720</td>\n      <td>-596728</td>\n      <td>96258</td>\n      <td>-65515</td>\n      <td>451227</td>\n      <td>994130</td>\n      <td>...</td>\n      <td>-913285</td>\n      <td>1065965</td>\n      <td>195846</td>\n      <td>1490651</td>\n      <td>-175851</td>\n      <td>2704943</td>\n      <td>6223772</td>\n      <td>-1042685</td>\n      <td>-139484</td>\n      <td>-4250292</td>\n    </tr>\n    <tr>\n      <th>3</th>\n      <td>898311</td>\n      <td>-109683</td>\n      <td>-501867</td>\n      <td>299787</td>\n      <td>2720</td>\n      <td>-596745</td>\n      <td>96013</td>\n      <td>-69651</td>\n      <td>451227</td>\n      <td>994130</td>\n      <td>...</td>\n      <td>-1185096</td>\n      <td>1065965</td>\n      <td>183087</td>\n      <td>1508697</td>\n      <td>-142958</td>\n      <td>2759332</td>\n      <td>6305891</td>\n      <td>-1042685</td>\n      <td>-140297</td>\n      <td>-4055391</td>\n    </tr>\n    <tr>\n      <th>4</th>\n      <td>423466</td>\n      <td>-109710</td>\n      <td>-501867</td>\n      <td>299787</td>\n      <td>2720</td>\n      <td>-596761</td>\n      <td>95793</td>\n      <td>267483</td>\n      <td>451227</td>\n      <td>994130</td>\n      <td>...</td>\n      <td>-1579790</td>\n      <td>1065965</td>\n      <td>249500</td>\n      <td>1491797</td>\n      <td>-173762</td>\n      <td>2592164</td>\n      <td>6097935</td>\n      <td>-1042685</td>\n      <td>-139536</td>\n      <td>-3929017</td>\n    </tr>\n    <tr>\n      <th>...</th>\n      <td>...</td>\n      <td>...</td>\n      <td>...</td>\n      <td>...</td>\n      <td>...</td>\n      <td>...</td>\n      <td>...</td>\n      <td>...</td>\n      <td>...</td>\n      <td>...</td>\n      <td>...</td>\n      <td>...</td>\n      <td>...</td>\n      <td>...</td>\n      <td>...</td>\n      <td>...</td>\n      <td>...</td>\n      <td>...</td>\n      <td>...</td>\n      <td>...</td>\n      <td>...</td>\n    </tr>\n    <tr>\n      <th>1158</th>\n      <td>-783885</td>\n      <td>-109641</td>\n      <td>-501867</td>\n      <td>299787</td>\n      <td>2720</td>\n      <td>-596721</td>\n      <td>96362</td>\n      <td>1123176</td>\n      <td>451227</td>\n      <td>994130</td>\n      <td>...</td>\n      <td>1893436</td>\n      <td>1065965</td>\n      <td>187326</td>\n      <td>1794211</td>\n      <td>377456</td>\n      <td>2208200</td>\n      <td>5652754</td>\n      <td>-1042685</td>\n      <td>-153163</td>\n      <td>28524713</td>\n    </tr>\n    <tr>\n      <th>1159</th>\n      <td>-1140045</td>\n      <td>-109666</td>\n      <td>-501867</td>\n      <td>299787</td>\n      <td>2720</td>\n      <td>-596736</td>\n      <td>96152</td>\n      <td>1376080</td>\n      <td>451227</td>\n      <td>994130</td>\n      <td>...</td>\n      <td>2213450</td>\n      <td>1065965</td>\n      <td>244103</td>\n      <td>1771122</td>\n      <td>335372</td>\n      <td>2083500</td>\n      <td>5497137</td>\n      <td>-1042685</td>\n      <td>-152122</td>\n      <td>28728629</td>\n    </tr>\n    <tr>\n      <th>1160</th>\n      <td>-1527101</td>\n      <td>-109679</td>\n      <td>-501867</td>\n      <td>299787</td>\n      <td>2720</td>\n      <td>-596743</td>\n      <td>96048</td>\n      <td>1650786</td>\n      <td>451227</td>\n      <td>994130</td>\n      <td>...</td>\n      <td>1275907</td>\n      <td>1065965</td>\n      <td>283033</td>\n      <td>1780077</td>\n      <td>351694</td>\n      <td>1949769</td>\n      <td>5332871</td>\n      <td>-1042685</td>\n      <td>-152526</td>\n      <td>29616679</td>\n    </tr>\n    <tr>\n      <th>1161</th>\n      <td>-1280786</td>\n      <td>-109702</td>\n      <td>-501867</td>\n      <td>299787</td>\n      <td>2720</td>\n      <td>-596757</td>\n      <td>95856</td>\n      <td>1475536</td>\n      <td>451227</td>\n      <td>994130</td>\n      <td>...</td>\n      <td>2233996</td>\n      <td>1065965</td>\n      <td>241648</td>\n      <td>1799090</td>\n      <td>386350</td>\n      <td>2093540</td>\n      <td>5526842</td>\n      <td>-1042685</td>\n      <td>-153383</td>\n      <td>30608872</td>\n    </tr>\n    <tr>\n      <th>1162</th>\n      <td>-908471</td>\n      <td>-109641</td>\n      <td>-501867</td>\n      <td>299787</td>\n      <td>2720</td>\n      <td>-596721</td>\n      <td>96364</td>\n      <td>1211354</td>\n      <td>451227</td>\n      <td>994130</td>\n      <td>...</td>\n      <td>1957978</td>\n      <td>1065965</td>\n      <td>175005</td>\n      <td>1834215</td>\n      <td>450374</td>\n      <td>2183722</td>\n      <td>5630057</td>\n      <td>-1042685</td>\n      <td>-154965</td>\n      <td>31885399</td>\n    </tr>\n  </tbody>\n</table>\n<p>1163 rows × 429 columns</p>\n</div>"
     },
     "metadata": {},
     "execution_count": 2
    }
   ],
   "source": [
    "val = pd.read_csv(filename, nrows=2, header=None)\n",
    "NPARAMS = val[0][0]\n",
    "NTRAIN = val[0][1]\n",
    "dataset = pd.read_csv(filename, sep=' ', skiprows=2, nrows=NTRAIN-1, header=None)\n",
    "pd.DataFrame(dataset.values)"
   ]
  },
  {
   "cell_type": "code",
   "execution_count": 3,
   "metadata": {},
   "outputs": [
    {
     "output_type": "execute_result",
     "data": {
      "text/plain": [
       "        0       1       2       3     4       5      6        7       8    \\\n",
       "0   -213410 -109667 -501867  299787  2720 -596736  96145   719579  451227   \n",
       "1   -533970 -109671 -501867  299787  2720 -596738  96115   946796  451227   \n",
       "2   -733427 -109690 -501867  299787  2720 -596750  95954  1087906  451227   \n",
       "3   -250862 -109705 -501867  299787  2720 -596758  95836   745704  451227   \n",
       "4   -442390 -109682 -501867  299787  2720 -596745  96023   881138  451227   \n",
       "..      ...     ...     ...     ...   ...     ...    ...      ...     ...   \n",
       "251  -50290 -109679 -501867  299787  2720 -596743  96043   602522  451227   \n",
       "252  -54201 -109665 -501867  299787  2720 -596735  96166   605603  451227   \n",
       "253 -877957 -109658 -501867  299787  2720 -596731  96219  1190965  451227   \n",
       "254   53396 -109673 -501867  299787  2720 -596740  96096   529691  451227   \n",
       "255  269477 -109632 -501867  299787  2720 -596715  96438   377050  451227   \n",
       "\n",
       "        9    ...      419      420     421      422     423      424      425  \\\n",
       "0    994130  ...  -644531  1065965  276460  1562109  -45602  2322553  5756964   \n",
       "1    994130  ...   977058  1065965  277545  1616070   52753  2233148  5655865   \n",
       "2    994130  ...  1039057  1065965  266441  1667183  145919  2212326  5646204   \n",
       "3    994130  ...  -201972  1065965  265026  1585569   -2841  2373625  5838374   \n",
       "4    994130  ...  1063974  1065965  219380  1687008  182054  2331963  5799991   \n",
       "..      ...  ...      ...      ...     ...      ...     ...      ...      ...   \n",
       "251  994130  ...  1461331  1065965  157743  1711055  225885  2503093  6021912   \n",
       "252  994130  ...   861698  1065965  174845  1686240  180654  2464992  5963628   \n",
       "253  994130  ...   486251  1065965  298052  1645138  105736  2095741  5483434   \n",
       "254  994130  ...   297146  1065965  212943  1610667   42906  2470527  5957241   \n",
       "255  994130  ...  -577672  1065965  231021  1546322  -74378  2459325  5916578   \n",
       "\n",
       "         426     427       428  \n",
       "0   -1042685 -142704   6080887  \n",
       "1   -1042685 -145136  13552510  \n",
       "2   -1042685 -147439  17638943  \n",
       "3   -1042685 -143761   7742576  \n",
       "4   -1042685 -148332  17711406  \n",
       "..       ...     ...       ...  \n",
       "251 -1042685 -149416  17999524  \n",
       "252 -1042685 -148297  15783233  \n",
       "253 -1042685 -146445  16704809  \n",
       "254 -1042685 -144892   9247809  \n",
       "255 -1042685 -141993   3439024  \n",
       "\n",
       "[256 rows x 429 columns]"
      ],
      "text/html": "<div>\n<style scoped>\n    .dataframe tbody tr th:only-of-type {\n        vertical-align: middle;\n    }\n\n    .dataframe tbody tr th {\n        vertical-align: top;\n    }\n\n    .dataframe thead th {\n        text-align: right;\n    }\n</style>\n<table border=\"1\" class=\"dataframe\">\n  <thead>\n    <tr style=\"text-align: right;\">\n      <th></th>\n      <th>0</th>\n      <th>1</th>\n      <th>2</th>\n      <th>3</th>\n      <th>4</th>\n      <th>5</th>\n      <th>6</th>\n      <th>7</th>\n      <th>8</th>\n      <th>9</th>\n      <th>...</th>\n      <th>419</th>\n      <th>420</th>\n      <th>421</th>\n      <th>422</th>\n      <th>423</th>\n      <th>424</th>\n      <th>425</th>\n      <th>426</th>\n      <th>427</th>\n      <th>428</th>\n    </tr>\n  </thead>\n  <tbody>\n    <tr>\n      <th>0</th>\n      <td>-213410</td>\n      <td>-109667</td>\n      <td>-501867</td>\n      <td>299787</td>\n      <td>2720</td>\n      <td>-596736</td>\n      <td>96145</td>\n      <td>719579</td>\n      <td>451227</td>\n      <td>994130</td>\n      <td>...</td>\n      <td>-644531</td>\n      <td>1065965</td>\n      <td>276460</td>\n      <td>1562109</td>\n      <td>-45602</td>\n      <td>2322553</td>\n      <td>5756964</td>\n      <td>-1042685</td>\n      <td>-142704</td>\n      <td>6080887</td>\n    </tr>\n    <tr>\n      <th>1</th>\n      <td>-533970</td>\n      <td>-109671</td>\n      <td>-501867</td>\n      <td>299787</td>\n      <td>2720</td>\n      <td>-596738</td>\n      <td>96115</td>\n      <td>946796</td>\n      <td>451227</td>\n      <td>994130</td>\n      <td>...</td>\n      <td>977058</td>\n      <td>1065965</td>\n      <td>277545</td>\n      <td>1616070</td>\n      <td>52753</td>\n      <td>2233148</td>\n      <td>5655865</td>\n      <td>-1042685</td>\n      <td>-145136</td>\n      <td>13552510</td>\n    </tr>\n    <tr>\n      <th>2</th>\n      <td>-733427</td>\n      <td>-109690</td>\n      <td>-501867</td>\n      <td>299787</td>\n      <td>2720</td>\n      <td>-596750</td>\n      <td>95954</td>\n      <td>1087906</td>\n      <td>451227</td>\n      <td>994130</td>\n      <td>...</td>\n      <td>1039057</td>\n      <td>1065965</td>\n      <td>266441</td>\n      <td>1667183</td>\n      <td>145919</td>\n      <td>2212326</td>\n      <td>5646204</td>\n      <td>-1042685</td>\n      <td>-147439</td>\n      <td>17638943</td>\n    </tr>\n    <tr>\n      <th>3</th>\n      <td>-250862</td>\n      <td>-109705</td>\n      <td>-501867</td>\n      <td>299787</td>\n      <td>2720</td>\n      <td>-596758</td>\n      <td>95836</td>\n      <td>745704</td>\n      <td>451227</td>\n      <td>994130</td>\n      <td>...</td>\n      <td>-201972</td>\n      <td>1065965</td>\n      <td>265026</td>\n      <td>1585569</td>\n      <td>-2841</td>\n      <td>2373625</td>\n      <td>5838374</td>\n      <td>-1042685</td>\n      <td>-143761</td>\n      <td>7742576</td>\n    </tr>\n    <tr>\n      <th>4</th>\n      <td>-442390</td>\n      <td>-109682</td>\n      <td>-501867</td>\n      <td>299787</td>\n      <td>2720</td>\n      <td>-596745</td>\n      <td>96023</td>\n      <td>881138</td>\n      <td>451227</td>\n      <td>994130</td>\n      <td>...</td>\n      <td>1063974</td>\n      <td>1065965</td>\n      <td>219380</td>\n      <td>1687008</td>\n      <td>182054</td>\n      <td>2331963</td>\n      <td>5799991</td>\n      <td>-1042685</td>\n      <td>-148332</td>\n      <td>17711406</td>\n    </tr>\n    <tr>\n      <th>...</th>\n      <td>...</td>\n      <td>...</td>\n      <td>...</td>\n      <td>...</td>\n      <td>...</td>\n      <td>...</td>\n      <td>...</td>\n      <td>...</td>\n      <td>...</td>\n      <td>...</td>\n      <td>...</td>\n      <td>...</td>\n      <td>...</td>\n      <td>...</td>\n      <td>...</td>\n      <td>...</td>\n      <td>...</td>\n      <td>...</td>\n      <td>...</td>\n      <td>...</td>\n      <td>...</td>\n    </tr>\n    <tr>\n      <th>251</th>\n      <td>-50290</td>\n      <td>-109679</td>\n      <td>-501867</td>\n      <td>299787</td>\n      <td>2720</td>\n      <td>-596743</td>\n      <td>96043</td>\n      <td>602522</td>\n      <td>451227</td>\n      <td>994130</td>\n      <td>...</td>\n      <td>1461331</td>\n      <td>1065965</td>\n      <td>157743</td>\n      <td>1711055</td>\n      <td>225885</td>\n      <td>2503093</td>\n      <td>6021912</td>\n      <td>-1042685</td>\n      <td>-149416</td>\n      <td>17999524</td>\n    </tr>\n    <tr>\n      <th>252</th>\n      <td>-54201</td>\n      <td>-109665</td>\n      <td>-501867</td>\n      <td>299787</td>\n      <td>2720</td>\n      <td>-596735</td>\n      <td>96166</td>\n      <td>605603</td>\n      <td>451227</td>\n      <td>994130</td>\n      <td>...</td>\n      <td>861698</td>\n      <td>1065965</td>\n      <td>174845</td>\n      <td>1686240</td>\n      <td>180654</td>\n      <td>2464992</td>\n      <td>5963628</td>\n      <td>-1042685</td>\n      <td>-148297</td>\n      <td>15783233</td>\n    </tr>\n    <tr>\n      <th>253</th>\n      <td>-877957</td>\n      <td>-109658</td>\n      <td>-501867</td>\n      <td>299787</td>\n      <td>2720</td>\n      <td>-596731</td>\n      <td>96219</td>\n      <td>1190965</td>\n      <td>451227</td>\n      <td>994130</td>\n      <td>...</td>\n      <td>486251</td>\n      <td>1065965</td>\n      <td>298052</td>\n      <td>1645138</td>\n      <td>105736</td>\n      <td>2095741</td>\n      <td>5483434</td>\n      <td>-1042685</td>\n      <td>-146445</td>\n      <td>16704809</td>\n    </tr>\n    <tr>\n      <th>254</th>\n      <td>53396</td>\n      <td>-109673</td>\n      <td>-501867</td>\n      <td>299787</td>\n      <td>2720</td>\n      <td>-596740</td>\n      <td>96096</td>\n      <td>529691</td>\n      <td>451227</td>\n      <td>994130</td>\n      <td>...</td>\n      <td>297146</td>\n      <td>1065965</td>\n      <td>212943</td>\n      <td>1610667</td>\n      <td>42906</td>\n      <td>2470527</td>\n      <td>5957241</td>\n      <td>-1042685</td>\n      <td>-144892</td>\n      <td>9247809</td>\n    </tr>\n    <tr>\n      <th>255</th>\n      <td>269477</td>\n      <td>-109632</td>\n      <td>-501867</td>\n      <td>299787</td>\n      <td>2720</td>\n      <td>-596715</td>\n      <td>96438</td>\n      <td>377050</td>\n      <td>451227</td>\n      <td>994130</td>\n      <td>...</td>\n      <td>-577672</td>\n      <td>1065965</td>\n      <td>231021</td>\n      <td>1546322</td>\n      <td>-74378</td>\n      <td>2459325</td>\n      <td>5916578</td>\n      <td>-1042685</td>\n      <td>-141993</td>\n      <td>3439024</td>\n    </tr>\n  </tbody>\n</table>\n<p>256 rows × 429 columns</p>\n</div>"
     },
     "metadata": {},
     "execution_count": 3
    }
   ],
   "source": [
    "test_dataset = pd.read_csv(filename, sep=' ', skiprows=3+NTRAIN, header=None)\n",
    "NTEST = len(test_dataset)\n",
    "pd.DataFrame(test_dataset.values)"
   ]
  },
  {
   "cell_type": "code",
   "execution_count": 4,
   "metadata": {},
   "outputs": [
    {
     "output_type": "stream",
     "name": "stdout",
     "text": [
      "Number of parameters: 428\nNumber of objects in training dataset: 1164\nNumber of objects in test dataset: 256\n"
     ]
    }
   ],
   "source": [
    "print(\"Number of parameters: %d\" % NPARAMS)\n",
    "print(\"Number of objects in training dataset: %d\" % NTRAIN)\n",
    "print(\"Number of objects in test dataset: %d\" % NTEST)"
   ]
  },
  {
   "source": [
    "**The method of least squares**"
   ],
   "cell_type": "markdown",
   "metadata": {}
  },
  {
   "cell_type": "code",
   "execution_count": 6,
   "metadata": {},
   "outputs": [],
   "source": [
    "F = np.array(dataset)[:,:-1] # objects matrix\n",
    "Y = np.array(dataset)[:,-1] # answers vector\n",
    "teta = np.matmul(LA.pinv(F), Y) # teta vector"
   ]
  },
  {
   "cell_type": "code",
   "execution_count": 7,
   "metadata": {},
   "outputs": [],
   "source": [
    "def RS(X, Y, tau): \n",
    "    # diffirintiate risk function to get optimal teta \n",
    "    return LA.pinv(np.add(X.T.dot(X), np.cov(X.T).dot(tau) )).dot(X.T).dot(Y) # also can use inverse matrix"
   ]
  },
  {
   "cell_type": "code",
   "execution_count": 8,
   "metadata": {},
   "outputs": [],
   "source": [
    "def RSS(F, Y, sig):\n",
    "    # lets add regularization to risk function\n",
    "    tau = 1 / sig\n",
    "    teta = RS(F, Y, tau)\n",
    "    return LA.norm(F.dot(teta) - Y) ** 2 + (0.5 * LA.norm(teta) ** 2) / sig "
   ]
  },
  {
   "cell_type": "code",
   "execution_count": 11,
   "metadata": {},
   "outputs": [],
   "source": [
    "# minimaze empirical risk and finding optimized tau(sigma)\n",
    "best = 99999999999999\n",
    "best_sig = 0\n",
    "for s in range(991800, 992000, 10):\n",
    "    res = RSS(F, Y, s)\n",
    "    if res < best:\n",
    "        best = res\n",
    "        best_sig = s"
   ]
  },
  {
   "cell_type": "code",
   "execution_count": 10,
   "metadata": {},
   "outputs": [
    {
     "output_type": "stream",
     "name": "stdout",
     "text": [
      "Minimal empirical risk: 13476655976.11795 reached with sigma: 991860 (tau: 1.0082068033795092e-06) \n"
     ]
    }
   ],
   "source": [
    "print(\"Minimal empirical risk: {} reached with sigma: {} (tau: {}) \".format(best, best_sig, 1/best_sig))"
   ]
  },
  {
   "source": [
    "**Stochastic gradient descent method**"
   ],
   "cell_type": "markdown",
   "metadata": {}
  },
  {
   "cell_type": "code",
   "execution_count": 16,
   "metadata": {},
   "outputs": [],
   "source": [
    "def nrmse(actual, predicted):\n",
    "    # normalized root-mean-square error measure\n",
    "    mse = np.mean(np.square(actual - predicted))\n",
    "    return np.sqrt(mse) / (actual.max() - actual.min())"
   ]
  },
  {
   "cell_type": "code",
   "execution_count": 17,
   "metadata": {},
   "outputs": [],
   "source": [
    "def estimate(ds):\n",
    "    pred = ds.values[::,:-1:]@teta # classificate\n",
    "    return nrmse(pred, ds.values.T[-1])"
   ]
  },
  {
   "cell_type": "code",
   "execution_count": 18,
   "metadata": {},
   "outputs": [
    {
     "output_type": "stream",
     "name": "stdout",
     "text": [
      "NRMSE for LS method on train dataset: 7.864915628152319e-05\nNRMSE for LS method on test dataset: 6.177472061442368e-05\n"
     ]
    }
   ],
   "source": [
    "print(\"NRMSE for LS method on train dataset: %s\" % estimate(dataset))\n",
    "print(\"NRMSE for LS method on test dataset: %s\" % estimate(test_dataset))"
   ]
  },
  {
   "cell_type": "code",
   "execution_count": 19,
   "metadata": {},
   "outputs": [],
   "source": [
    "def L(predict, real):\n",
    "    # loss func\n",
    "    return (predict - real) ** 2\n",
    "\n",
    "\n",
    "def L_der(predict, real):\n",
    "    # derivative of loss func\n",
    "    return 2 * (predict - real)"
   ]
  },
  {
   "cell_type": "code",
   "execution_count": 20,
   "metadata": {},
   "outputs": [],
   "source": [
    "def init_w(n_param):\n",
    "    # initialize weight vector\n",
    "    random.seed()\n",
    "    return [random.uniform(-1/(2*n_param), 1/(2*n_param)) for i in range(n_param)]"
   ]
  },
  {
   "cell_type": "code",
   "execution_count": 21,
   "metadata": {},
   "outputs": [],
   "source": [
    "def init_q(X, Y, w):\n",
    "    # initialize esimator\n",
    "    Q = 0\n",
    "    for i in range(len(X)):\n",
    "        Q += L(scalar_product(X[i], w), Y[i])\n",
    "    return Q / len(X)"
   ]
  },
  {
   "cell_type": "code",
   "execution_count": 22,
   "metadata": {},
   "outputs": [],
   "source": [
    "def scalar_product(a, b):\n",
    "    result = 0\n",
    "    for i in range(len(a)):\n",
    "        result += a[i] * b[i]\n",
    "    return result"
   ]
  },
  {
   "cell_type": "code",
   "execution_count": 23,
   "metadata": {},
   "outputs": [],
   "source": [
    "def SGD(X, Y, tau, iterations_limit=2000, with_Q_limit=True):\n",
    "    objects, features = len(X), len(X[0])\n",
    "    w = init_w(features)\n",
    "    Q = init_q(X, Y, w)\n",
    "    iterations = 0\n",
    "    while True:\n",
    "        iterations += 1\n",
    "        k = random.randint(0, objects - 1)\n",
    "        x, y = X[k], Y[k]   # select random object\n",
    "        predict = scalar_product(x, w)\n",
    "        loss = L(predict, y) + 0.5 * tau * np.linalg.norm(w) # estimate loss with regularization (tau)\n",
    "        l_rate = 0.009 / iterations\n",
    "        for i in range(features):\n",
    "            gradient = L_der(predict, y) * x[i]\n",
    "            # w = w(1−hτ)−h∇Li(w) \n",
    "            w[i] = w[i] * (1 - l_rate * tau) - l_rate * gradient\n",
    "        decay = 0.1\n",
    "        Q_previous = Q\n",
    "        Q = (1 - decay) * Q + decay * loss\n",
    "        if iterations == iterations_limit or (abs(Q - Q_previous) < 0.000001 and with_Q_limit):\n",
    "            break\n",
    "        #print(w)\n",
    "    return w"
   ]
  },
  {
   "cell_type": "code",
   "execution_count": 34,
   "metadata": {},
   "outputs": [],
   "source": [
    "def draw_graph(x_values, y_values, x_name, y_name, title):\n",
    "    plt.plot(x_values, y_values, 'b')\n",
    "    plt.xlabel(x_name)\n",
    "    plt.ylabel(y_name)\n",
    "    #plt.xscale('log')\n",
    "    plt.title(title)\n",
    "    plt.show()"
   ]
  },
  {
   "cell_type": "code",
   "execution_count": 47,
   "metadata": {
    "tags": []
   },
   "outputs": [],
   "source": [
    "def visual(X, Y, I, title):\n",
    "    vals = []\n",
    "    for iter in range(I):\n",
    "        W = SGD(X, Y, 0.0000010082, 2000, False)\n",
    "        vals.append( nrmse(dataset.values.T[-1], dataset.values[::,:-1:]@(np.array(W)*10e-200)) )\n",
    "    draw_graph(list(range(I)), vals, \"iterations\", \"nrmse\", title)"
   ]
  },
  {
   "cell_type": "code",
   "execution_count": 48,
   "metadata": {},
   "outputs": [],
   "source": [
    "# dataset normalization\n",
    "def find_minmax_X(X):\n",
    "    minmax = np.zeros((len(X[0]), 2))\n",
    "    for i in range(len(X[0])):\n",
    "        column = X[:, i]\n",
    "        minmax[i] = [column.min(), column.max()]\n",
    "    return minmax\n",
    "\n",
    "\n",
    "def find_minmax_Y(Y):\n",
    "    return np.array([Y.min(), Y.max()])\n",
    "\n",
    "\n",
    "def normalize(X, Y, with_constant_feature=True):\n",
    "    X_normalized, Y_normalized = np.zeros(np.shape(X)), np.zeros(np.shape(Y))\n",
    "    minmax_X, minmax_Y = find_minmax_X(X), find_minmax_Y(Y)\n",
    "    for i in range(len(X)):\n",
    "        Y_normalized[i] = (Y[i] - minmax_Y[0]) / (minmax_Y[1] - minmax_Y[0])\n",
    "        for j in range(len(X[0])):\n",
    "            if with_constant_feature and j == 0:\n",
    "                X_normalized[i][0] = 1\n",
    "            elif minmax_X[j][0] == minmax_X[j][1]:\n",
    "                X_normalized[i][j] = 0\n",
    "            else:\n",
    "                X_normalized[i][j] = (X[i][j] - minmax_X[j][0]) / (minmax_X[j][1] - minmax_X[j][0])\n",
    "    return X_normalized, Y_normalized"
   ]
  },
  {
   "cell_type": "code",
   "execution_count": 46,
   "metadata": {},
   "outputs": [
    {
     "output_type": "display_data",
     "data": {
      "text/plain": "<Figure size 432x288 with 1 Axes>",
      "image/svg+xml": "<?xml version=\"1.0\" encoding=\"utf-8\" standalone=\"no\"?>\n<!DOCTYPE svg PUBLIC \"-//W3C//DTD SVG 1.1//EN\"\n  \"http://www.w3.org/Graphics/SVG/1.1/DTD/svg11.dtd\">\n<!-- Created with matplotlib (https://matplotlib.org/) -->\n<svg height=\"277.314375pt\" version=\"1.1\" viewBox=\"0 0 398.50625 277.314375\" width=\"398.50625pt\" xmlns=\"http://www.w3.org/2000/svg\" xmlns:xlink=\"http://www.w3.org/1999/xlink\">\n <metadata>\n  <rdf:RDF xmlns:cc=\"http://creativecommons.org/ns#\" xmlns:dc=\"http://purl.org/dc/elements/1.1/\" xmlns:rdf=\"http://www.w3.org/1999/02/22-rdf-syntax-ns#\">\n   <cc:Work>\n    <dc:type rdf:resource=\"http://purl.org/dc/dcmitype/StillImage\"/>\n    <dc:date>2020-10-31T04:07:38.055718</dc:date>\n    <dc:format>image/svg+xml</dc:format>\n    <dc:creator>\n     <cc:Agent>\n      <dc:title>Matplotlib v3.3.2, https://matplotlib.org/</dc:title>\n     </cc:Agent>\n    </dc:creator>\n   </cc:Work>\n  </rdf:RDF>\n </metadata>\n <defs>\n  <style type=\"text/css\">*{stroke-linecap:butt;stroke-linejoin:round;}</style>\n </defs>\n <g id=\"figure_1\">\n  <g id=\"patch_1\">\n   <path d=\"M 0 277.314375 \nL 398.50625 277.314375 \nL 398.50625 0 \nL 0 0 \nz\n\" style=\"fill:none;\"/>\n  </g>\n  <g id=\"axes_1\">\n   <g id=\"patch_2\">\n    <path d=\"M 56.50625 239.758125 \nL 391.30625 239.758125 \nL 391.30625 22.318125 \nL 56.50625 22.318125 \nz\n\" style=\"fill:#ffffff;\"/>\n   </g>\n   <g id=\"matplotlib.axis_1\">\n    <g id=\"xtick_1\">\n     <g id=\"line2d_1\">\n      <defs>\n       <path d=\"M 0 0 \nL 0 3.5 \n\" id=\"me23c73eac6\" style=\"stroke:#000000;stroke-width:0.8;\"/>\n      </defs>\n      <g>\n       <use style=\"stroke:#000000;stroke-width:0.8;\" x=\"71.724432\" xlink:href=\"#me23c73eac6\" y=\"239.758125\"/>\n      </g>\n     </g>\n     <g id=\"text_1\">\n      <!-- 0 -->\n      <g transform=\"translate(68.543182 254.356562)scale(0.1 -0.1)\">\n       <defs>\n        <path d=\"M 31.78125 66.40625 \nQ 24.171875 66.40625 20.328125 58.90625 \nQ 16.5 51.421875 16.5 36.375 \nQ 16.5 21.390625 20.328125 13.890625 \nQ 24.171875 6.390625 31.78125 6.390625 \nQ 39.453125 6.390625 43.28125 13.890625 \nQ 47.125 21.390625 47.125 36.375 \nQ 47.125 51.421875 43.28125 58.90625 \nQ 39.453125 66.40625 31.78125 66.40625 \nz\nM 31.78125 74.21875 \nQ 44.046875 74.21875 50.515625 64.515625 \nQ 56.984375 54.828125 56.984375 36.375 \nQ 56.984375 17.96875 50.515625 8.265625 \nQ 44.046875 -1.421875 31.78125 -1.421875 \nQ 19.53125 -1.421875 13.0625 8.265625 \nQ 6.59375 17.96875 6.59375 36.375 \nQ 6.59375 54.828125 13.0625 64.515625 \nQ 19.53125 74.21875 31.78125 74.21875 \nz\n\" id=\"DejaVuSans-48\"/>\n       </defs>\n       <use xlink:href=\"#DejaVuSans-48\"/>\n      </g>\n     </g>\n    </g>\n    <g id=\"xtick_2\">\n     <g id=\"line2d_2\">\n      <g>\n       <use style=\"stroke:#000000;stroke-width:0.8;\" x=\"133.83946\" xlink:href=\"#me23c73eac6\" y=\"239.758125\"/>\n      </g>\n     </g>\n     <g id=\"text_2\">\n      <!-- 10 -->\n      <g transform=\"translate(127.47696 254.356562)scale(0.1 -0.1)\">\n       <defs>\n        <path d=\"M 12.40625 8.296875 \nL 28.515625 8.296875 \nL 28.515625 63.921875 \nL 10.984375 60.40625 \nL 10.984375 69.390625 \nL 28.421875 72.90625 \nL 38.28125 72.90625 \nL 38.28125 8.296875 \nL 54.390625 8.296875 \nL 54.390625 0 \nL 12.40625 0 \nz\n\" id=\"DejaVuSans-49\"/>\n       </defs>\n       <use xlink:href=\"#DejaVuSans-49\"/>\n       <use x=\"63.623047\" xlink:href=\"#DejaVuSans-48\"/>\n      </g>\n     </g>\n    </g>\n    <g id=\"xtick_3\">\n     <g id=\"line2d_3\">\n      <g>\n       <use style=\"stroke:#000000;stroke-width:0.8;\" x=\"195.954487\" xlink:href=\"#me23c73eac6\" y=\"239.758125\"/>\n      </g>\n     </g>\n     <g id=\"text_3\">\n      <!-- 20 -->\n      <g transform=\"translate(189.591987 254.356562)scale(0.1 -0.1)\">\n       <defs>\n        <path d=\"M 19.1875 8.296875 \nL 53.609375 8.296875 \nL 53.609375 0 \nL 7.328125 0 \nL 7.328125 8.296875 \nQ 12.9375 14.109375 22.625 23.890625 \nQ 32.328125 33.6875 34.8125 36.53125 \nQ 39.546875 41.84375 41.421875 45.53125 \nQ 43.3125 49.21875 43.3125 52.78125 \nQ 43.3125 58.59375 39.234375 62.25 \nQ 35.15625 65.921875 28.609375 65.921875 \nQ 23.96875 65.921875 18.8125 64.3125 \nQ 13.671875 62.703125 7.8125 59.421875 \nL 7.8125 69.390625 \nQ 13.765625 71.78125 18.9375 73 \nQ 24.125 74.21875 28.421875 74.21875 \nQ 39.75 74.21875 46.484375 68.546875 \nQ 53.21875 62.890625 53.21875 53.421875 \nQ 53.21875 48.921875 51.53125 44.890625 \nQ 49.859375 40.875 45.40625 35.40625 \nQ 44.1875 33.984375 37.640625 27.21875 \nQ 31.109375 20.453125 19.1875 8.296875 \nz\n\" id=\"DejaVuSans-50\"/>\n       </defs>\n       <use xlink:href=\"#DejaVuSans-50\"/>\n       <use x=\"63.623047\" xlink:href=\"#DejaVuSans-48\"/>\n      </g>\n     </g>\n    </g>\n    <g id=\"xtick_4\">\n     <g id=\"line2d_4\">\n      <g>\n       <use style=\"stroke:#000000;stroke-width:0.8;\" x=\"258.069515\" xlink:href=\"#me23c73eac6\" y=\"239.758125\"/>\n      </g>\n     </g>\n     <g id=\"text_4\">\n      <!-- 30 -->\n      <g transform=\"translate(251.707015 254.356562)scale(0.1 -0.1)\">\n       <defs>\n        <path d=\"M 40.578125 39.3125 \nQ 47.65625 37.796875 51.625 33 \nQ 55.609375 28.21875 55.609375 21.1875 \nQ 55.609375 10.40625 48.1875 4.484375 \nQ 40.765625 -1.421875 27.09375 -1.421875 \nQ 22.515625 -1.421875 17.65625 -0.515625 \nQ 12.796875 0.390625 7.625 2.203125 \nL 7.625 11.71875 \nQ 11.71875 9.328125 16.59375 8.109375 \nQ 21.484375 6.890625 26.8125 6.890625 \nQ 36.078125 6.890625 40.9375 10.546875 \nQ 45.796875 14.203125 45.796875 21.1875 \nQ 45.796875 27.640625 41.28125 31.265625 \nQ 36.765625 34.90625 28.71875 34.90625 \nL 20.21875 34.90625 \nL 20.21875 43.015625 \nL 29.109375 43.015625 \nQ 36.375 43.015625 40.234375 45.921875 \nQ 44.09375 48.828125 44.09375 54.296875 \nQ 44.09375 59.90625 40.109375 62.90625 \nQ 36.140625 65.921875 28.71875 65.921875 \nQ 24.65625 65.921875 20.015625 65.03125 \nQ 15.375 64.15625 9.8125 62.3125 \nL 9.8125 71.09375 \nQ 15.4375 72.65625 20.34375 73.4375 \nQ 25.25 74.21875 29.59375 74.21875 \nQ 40.828125 74.21875 47.359375 69.109375 \nQ 53.90625 64.015625 53.90625 55.328125 \nQ 53.90625 49.265625 50.4375 45.09375 \nQ 46.96875 40.921875 40.578125 39.3125 \nz\n\" id=\"DejaVuSans-51\"/>\n       </defs>\n       <use xlink:href=\"#DejaVuSans-51\"/>\n       <use x=\"63.623047\" xlink:href=\"#DejaVuSans-48\"/>\n      </g>\n     </g>\n    </g>\n    <g id=\"xtick_5\">\n     <g id=\"line2d_5\">\n      <g>\n       <use style=\"stroke:#000000;stroke-width:0.8;\" x=\"320.184543\" xlink:href=\"#me23c73eac6\" y=\"239.758125\"/>\n      </g>\n     </g>\n     <g id=\"text_5\">\n      <!-- 40 -->\n      <g transform=\"translate(313.822043 254.356562)scale(0.1 -0.1)\">\n       <defs>\n        <path d=\"M 37.796875 64.3125 \nL 12.890625 25.390625 \nL 37.796875 25.390625 \nz\nM 35.203125 72.90625 \nL 47.609375 72.90625 \nL 47.609375 25.390625 \nL 58.015625 25.390625 \nL 58.015625 17.1875 \nL 47.609375 17.1875 \nL 47.609375 0 \nL 37.796875 0 \nL 37.796875 17.1875 \nL 4.890625 17.1875 \nL 4.890625 26.703125 \nz\n\" id=\"DejaVuSans-52\"/>\n       </defs>\n       <use xlink:href=\"#DejaVuSans-52\"/>\n       <use x=\"63.623047\" xlink:href=\"#DejaVuSans-48\"/>\n      </g>\n     </g>\n    </g>\n    <g id=\"xtick_6\">\n     <g id=\"line2d_6\">\n      <g>\n       <use style=\"stroke:#000000;stroke-width:0.8;\" x=\"382.299571\" xlink:href=\"#me23c73eac6\" y=\"239.758125\"/>\n      </g>\n     </g>\n     <g id=\"text_6\">\n      <!-- 50 -->\n      <g transform=\"translate(375.937071 254.356562)scale(0.1 -0.1)\">\n       <defs>\n        <path d=\"M 10.796875 72.90625 \nL 49.515625 72.90625 \nL 49.515625 64.59375 \nL 19.828125 64.59375 \nL 19.828125 46.734375 \nQ 21.96875 47.46875 24.109375 47.828125 \nQ 26.265625 48.1875 28.421875 48.1875 \nQ 40.625 48.1875 47.75 41.5 \nQ 54.890625 34.8125 54.890625 23.390625 \nQ 54.890625 11.625 47.5625 5.09375 \nQ 40.234375 -1.421875 26.90625 -1.421875 \nQ 22.3125 -1.421875 17.546875 -0.640625 \nQ 12.796875 0.140625 7.71875 1.703125 \nL 7.71875 11.625 \nQ 12.109375 9.234375 16.796875 8.0625 \nQ 21.484375 6.890625 26.703125 6.890625 \nQ 35.15625 6.890625 40.078125 11.328125 \nQ 45.015625 15.765625 45.015625 23.390625 \nQ 45.015625 31 40.078125 35.4375 \nQ 35.15625 39.890625 26.703125 39.890625 \nQ 22.75 39.890625 18.8125 39.015625 \nQ 14.890625 38.140625 10.796875 36.28125 \nz\n\" id=\"DejaVuSans-53\"/>\n       </defs>\n       <use xlink:href=\"#DejaVuSans-53\"/>\n       <use x=\"63.623047\" xlink:href=\"#DejaVuSans-48\"/>\n      </g>\n     </g>\n    </g>\n    <g id=\"text_7\">\n     <!-- iterations -->\n     <g transform=\"translate(200.178906 268.034687)scale(0.1 -0.1)\">\n      <defs>\n       <path d=\"M 9.421875 54.6875 \nL 18.40625 54.6875 \nL 18.40625 0 \nL 9.421875 0 \nz\nM 9.421875 75.984375 \nL 18.40625 75.984375 \nL 18.40625 64.59375 \nL 9.421875 64.59375 \nz\n\" id=\"DejaVuSans-105\"/>\n       <path d=\"M 18.3125 70.21875 \nL 18.3125 54.6875 \nL 36.8125 54.6875 \nL 36.8125 47.703125 \nL 18.3125 47.703125 \nL 18.3125 18.015625 \nQ 18.3125 11.328125 20.140625 9.421875 \nQ 21.96875 7.515625 27.59375 7.515625 \nL 36.8125 7.515625 \nL 36.8125 0 \nL 27.59375 0 \nQ 17.1875 0 13.234375 3.875 \nQ 9.28125 7.765625 9.28125 18.015625 \nL 9.28125 47.703125 \nL 2.6875 47.703125 \nL 2.6875 54.6875 \nL 9.28125 54.6875 \nL 9.28125 70.21875 \nz\n\" id=\"DejaVuSans-116\"/>\n       <path d=\"M 56.203125 29.59375 \nL 56.203125 25.203125 \nL 14.890625 25.203125 \nQ 15.484375 15.921875 20.484375 11.0625 \nQ 25.484375 6.203125 34.421875 6.203125 \nQ 39.59375 6.203125 44.453125 7.46875 \nQ 49.3125 8.734375 54.109375 11.28125 \nL 54.109375 2.78125 \nQ 49.265625 0.734375 44.1875 -0.34375 \nQ 39.109375 -1.421875 33.890625 -1.421875 \nQ 20.796875 -1.421875 13.15625 6.1875 \nQ 5.515625 13.8125 5.515625 26.8125 \nQ 5.515625 40.234375 12.765625 48.109375 \nQ 20.015625 56 32.328125 56 \nQ 43.359375 56 49.78125 48.890625 \nQ 56.203125 41.796875 56.203125 29.59375 \nz\nM 47.21875 32.234375 \nQ 47.125 39.59375 43.09375 43.984375 \nQ 39.0625 48.390625 32.421875 48.390625 \nQ 24.90625 48.390625 20.390625 44.140625 \nQ 15.875 39.890625 15.1875 32.171875 \nz\n\" id=\"DejaVuSans-101\"/>\n       <path d=\"M 41.109375 46.296875 \nQ 39.59375 47.171875 37.8125 47.578125 \nQ 36.03125 48 33.890625 48 \nQ 26.265625 48 22.1875 43.046875 \nQ 18.109375 38.09375 18.109375 28.8125 \nL 18.109375 0 \nL 9.078125 0 \nL 9.078125 54.6875 \nL 18.109375 54.6875 \nL 18.109375 46.1875 \nQ 20.953125 51.171875 25.484375 53.578125 \nQ 30.03125 56 36.53125 56 \nQ 37.453125 56 38.578125 55.875 \nQ 39.703125 55.765625 41.0625 55.515625 \nz\n\" id=\"DejaVuSans-114\"/>\n       <path d=\"M 34.28125 27.484375 \nQ 23.390625 27.484375 19.1875 25 \nQ 14.984375 22.515625 14.984375 16.5 \nQ 14.984375 11.71875 18.140625 8.90625 \nQ 21.296875 6.109375 26.703125 6.109375 \nQ 34.1875 6.109375 38.703125 11.40625 \nQ 43.21875 16.703125 43.21875 25.484375 \nL 43.21875 27.484375 \nz\nM 52.203125 31.203125 \nL 52.203125 0 \nL 43.21875 0 \nL 43.21875 8.296875 \nQ 40.140625 3.328125 35.546875 0.953125 \nQ 30.953125 -1.421875 24.3125 -1.421875 \nQ 15.921875 -1.421875 10.953125 3.296875 \nQ 6 8.015625 6 15.921875 \nQ 6 25.140625 12.171875 29.828125 \nQ 18.359375 34.515625 30.609375 34.515625 \nL 43.21875 34.515625 \nL 43.21875 35.40625 \nQ 43.21875 41.609375 39.140625 45 \nQ 35.0625 48.390625 27.6875 48.390625 \nQ 23 48.390625 18.546875 47.265625 \nQ 14.109375 46.140625 10.015625 43.890625 \nL 10.015625 52.203125 \nQ 14.9375 54.109375 19.578125 55.046875 \nQ 24.21875 56 28.609375 56 \nQ 40.484375 56 46.34375 49.84375 \nQ 52.203125 43.703125 52.203125 31.203125 \nz\n\" id=\"DejaVuSans-97\"/>\n       <path d=\"M 30.609375 48.390625 \nQ 23.390625 48.390625 19.1875 42.75 \nQ 14.984375 37.109375 14.984375 27.296875 \nQ 14.984375 17.484375 19.15625 11.84375 \nQ 23.34375 6.203125 30.609375 6.203125 \nQ 37.796875 6.203125 41.984375 11.859375 \nQ 46.1875 17.53125 46.1875 27.296875 \nQ 46.1875 37.015625 41.984375 42.703125 \nQ 37.796875 48.390625 30.609375 48.390625 \nz\nM 30.609375 56 \nQ 42.328125 56 49.015625 48.375 \nQ 55.71875 40.765625 55.71875 27.296875 \nQ 55.71875 13.875 49.015625 6.21875 \nQ 42.328125 -1.421875 30.609375 -1.421875 \nQ 18.84375 -1.421875 12.171875 6.21875 \nQ 5.515625 13.875 5.515625 27.296875 \nQ 5.515625 40.765625 12.171875 48.375 \nQ 18.84375 56 30.609375 56 \nz\n\" id=\"DejaVuSans-111\"/>\n       <path d=\"M 54.890625 33.015625 \nL 54.890625 0 \nL 45.90625 0 \nL 45.90625 32.71875 \nQ 45.90625 40.484375 42.875 44.328125 \nQ 39.84375 48.1875 33.796875 48.1875 \nQ 26.515625 48.1875 22.3125 43.546875 \nQ 18.109375 38.921875 18.109375 30.90625 \nL 18.109375 0 \nL 9.078125 0 \nL 9.078125 54.6875 \nL 18.109375 54.6875 \nL 18.109375 46.1875 \nQ 21.34375 51.125 25.703125 53.5625 \nQ 30.078125 56 35.796875 56 \nQ 45.21875 56 50.046875 50.171875 \nQ 54.890625 44.34375 54.890625 33.015625 \nz\n\" id=\"DejaVuSans-110\"/>\n       <path d=\"M 44.28125 53.078125 \nL 44.28125 44.578125 \nQ 40.484375 46.53125 36.375 47.5 \nQ 32.28125 48.484375 27.875 48.484375 \nQ 21.1875 48.484375 17.84375 46.4375 \nQ 14.5 44.390625 14.5 40.28125 \nQ 14.5 37.15625 16.890625 35.375 \nQ 19.28125 33.59375 26.515625 31.984375 \nL 29.59375 31.296875 \nQ 39.15625 29.25 43.1875 25.515625 \nQ 47.21875 21.78125 47.21875 15.09375 \nQ 47.21875 7.46875 41.1875 3.015625 \nQ 35.15625 -1.421875 24.609375 -1.421875 \nQ 20.21875 -1.421875 15.453125 -0.5625 \nQ 10.6875 0.296875 5.421875 2 \nL 5.421875 11.28125 \nQ 10.40625 8.6875 15.234375 7.390625 \nQ 20.0625 6.109375 24.8125 6.109375 \nQ 31.15625 6.109375 34.5625 8.28125 \nQ 37.984375 10.453125 37.984375 14.40625 \nQ 37.984375 18.0625 35.515625 20.015625 \nQ 33.0625 21.96875 24.703125 23.78125 \nL 21.578125 24.515625 \nQ 13.234375 26.265625 9.515625 29.90625 \nQ 5.8125 33.546875 5.8125 39.890625 \nQ 5.8125 47.609375 11.28125 51.796875 \nQ 16.75 56 26.8125 56 \nQ 31.78125 56 36.171875 55.265625 \nQ 40.578125 54.546875 44.28125 53.078125 \nz\n\" id=\"DejaVuSans-115\"/>\n      </defs>\n      <use xlink:href=\"#DejaVuSans-105\"/>\n      <use x=\"27.783203\" xlink:href=\"#DejaVuSans-116\"/>\n      <use x=\"66.992188\" xlink:href=\"#DejaVuSans-101\"/>\n      <use x=\"128.515625\" xlink:href=\"#DejaVuSans-114\"/>\n      <use x=\"169.628906\" xlink:href=\"#DejaVuSans-97\"/>\n      <use x=\"230.908203\" xlink:href=\"#DejaVuSans-116\"/>\n      <use x=\"270.117188\" xlink:href=\"#DejaVuSans-105\"/>\n      <use x=\"297.900391\" xlink:href=\"#DejaVuSans-111\"/>\n      <use x=\"359.082031\" xlink:href=\"#DejaVuSans-110\"/>\n      <use x=\"422.460938\" xlink:href=\"#DejaVuSans-115\"/>\n     </g>\n    </g>\n   </g>\n   <g id=\"matplotlib.axis_2\">\n    <g id=\"ytick_1\">\n     <g id=\"line2d_7\">\n      <defs>\n       <path d=\"M 0 0 \nL -3.5 0 \n\" id=\"m2429f56f9f\" style=\"stroke:#000000;stroke-width:0.8;\"/>\n      </defs>\n      <g>\n       <use style=\"stroke:#000000;stroke-width:0.8;\" x=\"56.50625\" xlink:href=\"#m2429f56f9f\" y=\"222.339373\"/>\n      </g>\n     </g>\n     <g id=\"text_8\">\n      <!-- 0.390 -->\n      <g transform=\"translate(20.878125 226.138592)scale(0.1 -0.1)\">\n       <defs>\n        <path d=\"M 10.6875 12.40625 \nL 21 12.40625 \nL 21 0 \nL 10.6875 0 \nz\n\" id=\"DejaVuSans-46\"/>\n        <path d=\"M 10.984375 1.515625 \nL 10.984375 10.5 \nQ 14.703125 8.734375 18.5 7.8125 \nQ 22.3125 6.890625 25.984375 6.890625 \nQ 35.75 6.890625 40.890625 13.453125 \nQ 46.046875 20.015625 46.78125 33.40625 \nQ 43.953125 29.203125 39.59375 26.953125 \nQ 35.25 24.703125 29.984375 24.703125 \nQ 19.046875 24.703125 12.671875 31.3125 \nQ 6.296875 37.9375 6.296875 49.421875 \nQ 6.296875 60.640625 12.9375 67.421875 \nQ 19.578125 74.21875 30.609375 74.21875 \nQ 43.265625 74.21875 49.921875 64.515625 \nQ 56.59375 54.828125 56.59375 36.375 \nQ 56.59375 19.140625 48.40625 8.859375 \nQ 40.234375 -1.421875 26.421875 -1.421875 \nQ 22.703125 -1.421875 18.890625 -0.6875 \nQ 15.09375 0.046875 10.984375 1.515625 \nz\nM 30.609375 32.421875 \nQ 37.25 32.421875 41.125 36.953125 \nQ 45.015625 41.5 45.015625 49.421875 \nQ 45.015625 57.28125 41.125 61.84375 \nQ 37.25 66.40625 30.609375 66.40625 \nQ 23.96875 66.40625 20.09375 61.84375 \nQ 16.21875 57.28125 16.21875 49.421875 \nQ 16.21875 41.5 20.09375 36.953125 \nQ 23.96875 32.421875 30.609375 32.421875 \nz\n\" id=\"DejaVuSans-57\"/>\n       </defs>\n       <use xlink:href=\"#DejaVuSans-48\"/>\n       <use x=\"63.623047\" xlink:href=\"#DejaVuSans-46\"/>\n       <use x=\"95.410156\" xlink:href=\"#DejaVuSans-51\"/>\n       <use x=\"159.033203\" xlink:href=\"#DejaVuSans-57\"/>\n       <use x=\"222.65625\" xlink:href=\"#DejaVuSans-48\"/>\n      </g>\n     </g>\n    </g>\n    <g id=\"ytick_2\">\n     <g id=\"line2d_8\">\n      <g>\n       <use style=\"stroke:#000000;stroke-width:0.8;\" x=\"56.50625\" xlink:href=\"#m2429f56f9f\" y=\"198.167245\"/>\n      </g>\n     </g>\n     <g id=\"text_9\">\n      <!-- 0.395 -->\n      <g transform=\"translate(20.878125 201.966464)scale(0.1 -0.1)\">\n       <use xlink:href=\"#DejaVuSans-48\"/>\n       <use x=\"63.623047\" xlink:href=\"#DejaVuSans-46\"/>\n       <use x=\"95.410156\" xlink:href=\"#DejaVuSans-51\"/>\n       <use x=\"159.033203\" xlink:href=\"#DejaVuSans-57\"/>\n       <use x=\"222.65625\" xlink:href=\"#DejaVuSans-53\"/>\n      </g>\n     </g>\n    </g>\n    <g id=\"ytick_3\">\n     <g id=\"line2d_9\">\n      <g>\n       <use style=\"stroke:#000000;stroke-width:0.8;\" x=\"56.50625\" xlink:href=\"#m2429f56f9f\" y=\"173.995116\"/>\n      </g>\n     </g>\n     <g id=\"text_10\">\n      <!-- 0.400 -->\n      <g transform=\"translate(20.878125 177.794335)scale(0.1 -0.1)\">\n       <use xlink:href=\"#DejaVuSans-48\"/>\n       <use x=\"63.623047\" xlink:href=\"#DejaVuSans-46\"/>\n       <use x=\"95.410156\" xlink:href=\"#DejaVuSans-52\"/>\n       <use x=\"159.033203\" xlink:href=\"#DejaVuSans-48\"/>\n       <use x=\"222.65625\" xlink:href=\"#DejaVuSans-48\"/>\n      </g>\n     </g>\n    </g>\n    <g id=\"ytick_4\">\n     <g id=\"line2d_10\">\n      <g>\n       <use style=\"stroke:#000000;stroke-width:0.8;\" x=\"56.50625\" xlink:href=\"#m2429f56f9f\" y=\"149.822988\"/>\n      </g>\n     </g>\n     <g id=\"text_11\">\n      <!-- 0.405 -->\n      <g transform=\"translate(20.878125 153.622207)scale(0.1 -0.1)\">\n       <use xlink:href=\"#DejaVuSans-48\"/>\n       <use x=\"63.623047\" xlink:href=\"#DejaVuSans-46\"/>\n       <use x=\"95.410156\" xlink:href=\"#DejaVuSans-52\"/>\n       <use x=\"159.033203\" xlink:href=\"#DejaVuSans-48\"/>\n       <use x=\"222.65625\" xlink:href=\"#DejaVuSans-53\"/>\n      </g>\n     </g>\n    </g>\n    <g id=\"ytick_5\">\n     <g id=\"line2d_11\">\n      <g>\n       <use style=\"stroke:#000000;stroke-width:0.8;\" x=\"56.50625\" xlink:href=\"#m2429f56f9f\" y=\"125.650859\"/>\n      </g>\n     </g>\n     <g id=\"text_12\">\n      <!-- 0.410 -->\n      <g transform=\"translate(20.878125 129.450078)scale(0.1 -0.1)\">\n       <use xlink:href=\"#DejaVuSans-48\"/>\n       <use x=\"63.623047\" xlink:href=\"#DejaVuSans-46\"/>\n       <use x=\"95.410156\" xlink:href=\"#DejaVuSans-52\"/>\n       <use x=\"159.033203\" xlink:href=\"#DejaVuSans-49\"/>\n       <use x=\"222.65625\" xlink:href=\"#DejaVuSans-48\"/>\n      </g>\n     </g>\n    </g>\n    <g id=\"ytick_6\">\n     <g id=\"line2d_12\">\n      <g>\n       <use style=\"stroke:#000000;stroke-width:0.8;\" x=\"56.50625\" xlink:href=\"#m2429f56f9f\" y=\"101.478731\"/>\n      </g>\n     </g>\n     <g id=\"text_13\">\n      <!-- 0.415 -->\n      <g transform=\"translate(20.878125 105.27795)scale(0.1 -0.1)\">\n       <use xlink:href=\"#DejaVuSans-48\"/>\n       <use x=\"63.623047\" xlink:href=\"#DejaVuSans-46\"/>\n       <use x=\"95.410156\" xlink:href=\"#DejaVuSans-52\"/>\n       <use x=\"159.033203\" xlink:href=\"#DejaVuSans-49\"/>\n       <use x=\"222.65625\" xlink:href=\"#DejaVuSans-53\"/>\n      </g>\n     </g>\n    </g>\n    <g id=\"ytick_7\">\n     <g id=\"line2d_13\">\n      <g>\n       <use style=\"stroke:#000000;stroke-width:0.8;\" x=\"56.50625\" xlink:href=\"#m2429f56f9f\" y=\"77.306602\"/>\n      </g>\n     </g>\n     <g id=\"text_14\">\n      <!-- 0.420 -->\n      <g transform=\"translate(20.878125 81.105821)scale(0.1 -0.1)\">\n       <use xlink:href=\"#DejaVuSans-48\"/>\n       <use x=\"63.623047\" xlink:href=\"#DejaVuSans-46\"/>\n       <use x=\"95.410156\" xlink:href=\"#DejaVuSans-52\"/>\n       <use x=\"159.033203\" xlink:href=\"#DejaVuSans-50\"/>\n       <use x=\"222.65625\" xlink:href=\"#DejaVuSans-48\"/>\n      </g>\n     </g>\n    </g>\n    <g id=\"ytick_8\">\n     <g id=\"line2d_14\">\n      <g>\n       <use style=\"stroke:#000000;stroke-width:0.8;\" x=\"56.50625\" xlink:href=\"#m2429f56f9f\" y=\"53.134474\"/>\n      </g>\n     </g>\n     <g id=\"text_15\">\n      <!-- 0.425 -->\n      <g transform=\"translate(20.878125 56.933693)scale(0.1 -0.1)\">\n       <use xlink:href=\"#DejaVuSans-48\"/>\n       <use x=\"63.623047\" xlink:href=\"#DejaVuSans-46\"/>\n       <use x=\"95.410156\" xlink:href=\"#DejaVuSans-52\"/>\n       <use x=\"159.033203\" xlink:href=\"#DejaVuSans-50\"/>\n       <use x=\"222.65625\" xlink:href=\"#DejaVuSans-53\"/>\n      </g>\n     </g>\n    </g>\n    <g id=\"ytick_9\">\n     <g id=\"line2d_15\">\n      <g>\n       <use style=\"stroke:#000000;stroke-width:0.8;\" x=\"56.50625\" xlink:href=\"#m2429f56f9f\" y=\"28.962345\"/>\n      </g>\n     </g>\n     <g id=\"text_16\">\n      <!-- 0.430 -->\n      <g transform=\"translate(20.878125 32.761564)scale(0.1 -0.1)\">\n       <use xlink:href=\"#DejaVuSans-48\"/>\n       <use x=\"63.623047\" xlink:href=\"#DejaVuSans-46\"/>\n       <use x=\"95.410156\" xlink:href=\"#DejaVuSans-52\"/>\n       <use x=\"159.033203\" xlink:href=\"#DejaVuSans-51\"/>\n       <use x=\"222.65625\" xlink:href=\"#DejaVuSans-48\"/>\n      </g>\n     </g>\n    </g>\n    <g id=\"text_17\">\n     <!-- nrmse -->\n     <g transform=\"translate(14.798437 146.726406)rotate(-90)scale(0.1 -0.1)\">\n      <defs>\n       <path d=\"M 52 44.1875 \nQ 55.375 50.25 60.0625 53.125 \nQ 64.75 56 71.09375 56 \nQ 79.640625 56 84.28125 50.015625 \nQ 88.921875 44.046875 88.921875 33.015625 \nL 88.921875 0 \nL 79.890625 0 \nL 79.890625 32.71875 \nQ 79.890625 40.578125 77.09375 44.375 \nQ 74.3125 48.1875 68.609375 48.1875 \nQ 61.625 48.1875 57.5625 43.546875 \nQ 53.515625 38.921875 53.515625 30.90625 \nL 53.515625 0 \nL 44.484375 0 \nL 44.484375 32.71875 \nQ 44.484375 40.625 41.703125 44.40625 \nQ 38.921875 48.1875 33.109375 48.1875 \nQ 26.21875 48.1875 22.15625 43.53125 \nQ 18.109375 38.875 18.109375 30.90625 \nL 18.109375 0 \nL 9.078125 0 \nL 9.078125 54.6875 \nL 18.109375 54.6875 \nL 18.109375 46.1875 \nQ 21.1875 51.21875 25.484375 53.609375 \nQ 29.78125 56 35.6875 56 \nQ 41.65625 56 45.828125 52.96875 \nQ 50 49.953125 52 44.1875 \nz\n\" id=\"DejaVuSans-109\"/>\n      </defs>\n      <use xlink:href=\"#DejaVuSans-110\"/>\n      <use x=\"63.378906\" xlink:href=\"#DejaVuSans-114\"/>\n      <use x=\"102.742188\" xlink:href=\"#DejaVuSans-109\"/>\n      <use x=\"200.154297\" xlink:href=\"#DejaVuSans-115\"/>\n      <use x=\"252.253906\" xlink:href=\"#DejaVuSans-101\"/>\n     </g>\n    </g>\n   </g>\n   <g id=\"line2d_16\">\n    <path clip-path=\"url(#p56b9eb83cf)\" d=\"M 71.724432 131.038125 \nL 77.935935 131.038125 \nL 84.147437 131.038125 \nL 90.35894 131.038125 \nL 96.570443 131.038125 \nL 102.781946 131.038125 \nL 108.993449 131.038125 \nL 115.204951 131.038125 \nL 121.416454 131.038125 \nL 127.627957 131.038125 \nL 133.83946 131.038125 \nL 140.050962 131.038125 \nL 146.262465 131.038125 \nL 152.473968 131.038125 \nL 158.685471 131.038125 \nL 164.896974 131.038125 \nL 171.108476 131.038125 \nL 177.319979 131.038125 \nL 183.531482 131.038125 \nL 189.742985 131.038125 \nL 195.954487 131.038125 \nL 202.16599 131.038125 \nL 208.377493 131.038125 \nL 214.588996 131.038125 \nL 220.800499 131.038125 \nL 227.012001 131.038125 \nL 233.223504 131.038125 \nL 239.435007 131.038125 \nL 245.64651 131.038125 \nL 251.858013 131.038125 \nL 258.069515 131.038125 \nL 264.281018 131.038125 \nL 270.492521 131.038125 \nL 276.704024 131.038125 \nL 282.915526 131.038125 \nL 289.127029 131.038125 \nL 295.338532 131.038125 \nL 301.550035 131.038125 \nL 307.761538 131.038125 \nL 313.97304 131.038125 \nL 320.184543 131.038125 \nL 326.396046 131.038125 \nL 332.607549 131.038125 \nL 338.819051 131.038125 \nL 345.030554 131.038125 \nL 351.242057 131.038125 \nL 357.45356 131.038125 \nL 363.665063 131.038125 \nL 369.876565 131.038125 \nL 376.088068 131.038125 \n\" style=\"fill:none;stroke:#0000ff;stroke-linecap:square;stroke-width:1.5;\"/>\n   </g>\n   <g id=\"patch_3\">\n    <path d=\"M 56.50625 239.758125 \nL 56.50625 22.318125 \n\" style=\"fill:none;stroke:#000000;stroke-linecap:square;stroke-linejoin:miter;stroke-width:0.8;\"/>\n   </g>\n   <g id=\"patch_4\">\n    <path d=\"M 391.30625 239.758125 \nL 391.30625 22.318125 \n\" style=\"fill:none;stroke:#000000;stroke-linecap:square;stroke-linejoin:miter;stroke-width:0.8;\"/>\n   </g>\n   <g id=\"patch_5\">\n    <path d=\"M 56.50625 239.758125 \nL 391.30625 239.758125 \n\" style=\"fill:none;stroke:#000000;stroke-linecap:square;stroke-linejoin:miter;stroke-width:0.8;\"/>\n   </g>\n   <g id=\"patch_6\">\n    <path d=\"M 56.50625 22.318125 \nL 391.30625 22.318125 \n\" style=\"fill:none;stroke:#000000;stroke-linecap:square;stroke-linejoin:miter;stroke-width:0.8;\"/>\n   </g>\n   <g id=\"text_18\">\n    <!-- Training -->\n    <g transform=\"translate(200.235312 16.318125)scale(0.12 -0.12)\">\n     <defs>\n      <path d=\"M -0.296875 72.90625 \nL 61.375 72.90625 \nL 61.375 64.59375 \nL 35.5 64.59375 \nL 35.5 0 \nL 25.59375 0 \nL 25.59375 64.59375 \nL -0.296875 64.59375 \nz\n\" id=\"DejaVuSans-84\"/>\n      <path d=\"M 45.40625 27.984375 \nQ 45.40625 37.75 41.375 43.109375 \nQ 37.359375 48.484375 30.078125 48.484375 \nQ 22.859375 48.484375 18.828125 43.109375 \nQ 14.796875 37.75 14.796875 27.984375 \nQ 14.796875 18.265625 18.828125 12.890625 \nQ 22.859375 7.515625 30.078125 7.515625 \nQ 37.359375 7.515625 41.375 12.890625 \nQ 45.40625 18.265625 45.40625 27.984375 \nz\nM 54.390625 6.78125 \nQ 54.390625 -7.171875 48.1875 -13.984375 \nQ 42 -20.796875 29.203125 -20.796875 \nQ 24.46875 -20.796875 20.265625 -20.09375 \nQ 16.0625 -19.390625 12.109375 -17.921875 \nL 12.109375 -9.1875 \nQ 16.0625 -11.328125 19.921875 -12.34375 \nQ 23.78125 -13.375 27.78125 -13.375 \nQ 36.625 -13.375 41.015625 -8.765625 \nQ 45.40625 -4.15625 45.40625 5.171875 \nL 45.40625 9.625 \nQ 42.625 4.78125 38.28125 2.390625 \nQ 33.9375 0 27.875 0 \nQ 17.828125 0 11.671875 7.65625 \nQ 5.515625 15.328125 5.515625 27.984375 \nQ 5.515625 40.671875 11.671875 48.328125 \nQ 17.828125 56 27.875 56 \nQ 33.9375 56 38.28125 53.609375 \nQ 42.625 51.21875 45.40625 46.390625 \nL 45.40625 54.6875 \nL 54.390625 54.6875 \nz\n\" id=\"DejaVuSans-103\"/>\n     </defs>\n     <use xlink:href=\"#DejaVuSans-84\"/>\n     <use x=\"46.333984\" xlink:href=\"#DejaVuSans-114\"/>\n     <use x=\"87.447266\" xlink:href=\"#DejaVuSans-97\"/>\n     <use x=\"148.726562\" xlink:href=\"#DejaVuSans-105\"/>\n     <use x=\"176.509766\" xlink:href=\"#DejaVuSans-110\"/>\n     <use x=\"239.888672\" xlink:href=\"#DejaVuSans-105\"/>\n     <use x=\"267.671875\" xlink:href=\"#DejaVuSans-110\"/>\n     <use x=\"331.050781\" xlink:href=\"#DejaVuSans-103\"/>\n    </g>\n   </g>\n  </g>\n </g>\n <defs>\n  <clipPath id=\"p56b9eb83cf\">\n   <rect height=\"217.44\" width=\"334.8\" x=\"56.50625\" y=\"22.318125\"/>\n  </clipPath>\n </defs>\n</svg>\n",
      "image/png": "[encoded data removed]"
     },
     "metadata": {
      "needs_background": "light"
     }
    }
   ],
   "source": [
    "visual(*normalize(F, Y), 50, \"Training\")"
   ]
  },
  {
   "cell_type": "code",
   "execution_count": 33,
   "metadata": {},
   "outputs": [
    {
     "output_type": "error",
     "ename": "TypeError",
     "evalue": "visual() missing 1 required positional argument: 'title'",
     "traceback": [
      "\u001b[0;31m---------------------------------------------------------------------------\u001b[0m",
      "\u001b[0;31mTypeError\u001b[0m                                 Traceback (most recent call last)",
      "\u001b[0;32m<ipython-input-33-be6925c779a1>\u001b[0m in \u001b[0;36m<module>\u001b[0;34m\u001b[0m\n\u001b[0;32m----> 1\u001b[0;31m \u001b[0mvisual\u001b[0m\u001b[0;34m(\u001b[0m\u001b[0mtest_dataset\u001b[0m \u001b[0;34m/\u001b[0m \u001b[0;36m2\u001b[0m\u001b[0;34m,\u001b[0m \u001b[0;36m100\u001b[0m\u001b[0;34m)\u001b[0m\u001b[0;34m\u001b[0m\u001b[0;34m\u001b[0m\u001b[0m\n\u001b[0m",
      "\u001b[0;31mTypeError\u001b[0m: visual() missing 1 required positional argument: 'title'"
     ]
    }
   ],
   "source": [
    "visual(test_dataset / 2, 100, \"Test\")"
   ]
  }
 ],
 "metadata": {
  "kernelspec": {
   "display_name": "Python 3",
   "language": "python",
   "name": "python3"
  },
  "language_info": {
   "codemirror_mode": {
    "name": "ipython",
    "version": 3
   },
   "file_extension": ".py",
   "mimetype": "text/x-python",
   "name": "python",
   "nbconvert_exporter": "python",
   "pygments_lexer": "ipython3",
   "version": "3.8.5-final"
  }
 },
 "nbformat": 4,
 "nbformat_minor": 2
}